{
 "cells": [
  {
   "cell_type": "code",
   "execution_count": 1,
   "id": "considerable-reason",
   "metadata": {},
   "outputs": [],
   "source": [
    "import numpy as np\n",
    "import matplotlib.pyplot as plt\n",
    "import matplotlib\n",
    "import cairo"
   ]
  },
  {
   "cell_type": "code",
   "execution_count": 2,
   "id": "acting-period",
   "metadata": {},
   "outputs": [],
   "source": [
    "import matplotlib.pyplot as plt\n",
    "import matplotlib.image as mpimg\n",
    "from keras.preprocessing.image import ImageDataGenerator\n",
    "from keras.models import Sequential, Model\n",
    "from keras.optimizers import RMSprop\n",
    "from keras.applications.vgg16 import VGG16, preprocess_input\n",
    "from keras.layers import Activation, Dropout, Flatten, Dense, GlobalMaxPooling2D, Conv2D, MaxPooling2D\n",
    "from keras.callbacks import CSVLogger\n",
    "from livelossplot.keras import PlotLossesCallback\n",
    "import efficientnet.keras as efn\n",
    "import keras\n",
    "import matplotlib.pyplot as plt\n",
    "import sklearn.metrics as metrics\n",
    "import pickle\n",
    "from keras.layers import Dense, GlobalAveragePooling2D\n",
    "import sys\n",
    "import numpy as np\n",
    "import glob as glob\n",
    "from keras import optimizers\n",
    "import os\n",
    "from mlxtend.plotting import plot_confusion_matrix\n",
    "import random\n",
    "from PIL import Image\n",
    "from contextlib import redirect_stdout\n",
    "from sklearn.metrics import precision_score, recall_score, f1_score, roc_auc_score, confusion_matrix, classification_report"
   ]
  },
  {
   "cell_type": "code",
   "execution_count": 3,
   "id": "hired-andrews",
   "metadata": {},
   "outputs": [],
   "source": [
    "image_width, image_height = 200, 200\n",
    "epochs = 40\n",
    "sample_per_epoch = 10000\n",
    "number_of_validation_sample = 2000\n",
    "batch_size = 8\n",
    "test_size = 30\n",
    "input_shape = (image_width, image_height, 3)\n",
    "file_path_train = r\"/home/ronaldsonbellande/Desktop/mobile_robotics/personal_repository/color_cube_detector_using_machine_learning/training_image_cubes\"\n",
    "file_path_validation = r\"/home/ronaldsonbellande/Desktop/mobile_robotics/personal_repository/color_cube_detector_using_machine_learning/validation\"\n",
    "file_path_test = r\"/home/ronaldsonbellande/Desktop/mobile_robotics/personal_repository/color_cube_detector_using_machine_learning/testing\""
   ]
  },
  {
   "cell_type": "code",
   "execution_count": 25,
   "id": "acute-blind",
   "metadata": {},
   "outputs": [],
   "source": [
    "number_training_simple = 0\n",
    "for read, directory, files in os.walk(file_path_train):\n",
    "    for dir in directory:\n",
    "        number_training_simple += len(glob.glob(os.path.join(read, dir + \"/*\")))\n",
    "        \n",
    "number_validation_simple = 0\n",
    "for read, directory, files in os.walk(file_path_validation):\n",
    "    for dir in directory:\n",
    "        number_validation_simple += len(glob.glob(os.path.join(read, dir + \"/*\")))\n",
    "        \n",
    "number_testing_simple = 0\n",
    "for read, directory, files in os.walk(file_path_test):\n",
    "    for dir in directory:\n",
    "        number_testing_simple += len(glob.glob(os.path.join(read, dir + \"/*\")))"
   ]
  },
  {
   "cell_type": "code",
   "execution_count": 5,
   "id": "written-hampshire",
   "metadata": {},
   "outputs": [
    {
     "name": "stdout",
     "output_type": "stream",
     "text": [
      "9\n",
      "9\n",
      "39\n"
     ]
    }
   ],
   "source": [
    "print(number_testing_simple)\n",
    "print(number_validation_simple)\n",
    "print(number_training_simple)"
   ]
  },
  {
   "cell_type": "code",
   "execution_count": 6,
   "id": "muslim-smooth",
   "metadata": {},
   "outputs": [],
   "source": [
    "model = Sequential()\n",
    "\n",
    "model.add(Conv2D(32, 3, 3, padding='same', input_shape=input_shape, activation='relu'))\n",
    "model.add(Conv2D(32, 3, 3, padding='same', activation='relu'))\n",
    "model.add(MaxPooling2D(pool_size=(2, 2)))\n",
    "\n",
    "model.add(Conv2D(64, 3, 3, padding='same', activation='relu'))\n",
    "model.add(MaxPooling2D(pool_size=(2, 2)))\n",
    "\n",
    "model.add(Conv2D(128, 3, 3, padding='same', activation='relu'))\n",
    "model.add(MaxPooling2D(pool_size=(2, 2), padding='same'))\n",
    "\n",
    "model.add(Flatten())\n",
    "model.add(Dense(128, activation = 'relu'))\n",
    "model.add(Dense(1, activation = 'sigmoid'))\n",
    "\n",
    "\n",
    "model.compile(loss='binary_crossentropy',\n",
    "            optimizer = 'adam',\n",
    "            metrics=['accuracy'])"
   ]
  },
  {
   "cell_type": "code",
   "execution_count": 7,
   "id": "continuous-polls",
   "metadata": {},
   "outputs": [
    {
     "name": "stdout",
     "output_type": "stream",
     "text": [
      "Model: \"sequential\"\n",
      "_________________________________________________________________\n",
      "Layer (type)                 Output Shape              Param #   \n",
      "=================================================================\n",
      "conv2d (Conv2D)              (None, 67, 67, 32)        896       \n",
      "_________________________________________________________________\n",
      "conv2d_1 (Conv2D)            (None, 23, 23, 32)        9248      \n",
      "_________________________________________________________________\n",
      "max_pooling2d (MaxPooling2D) (None, 11, 11, 32)        0         \n",
      "_________________________________________________________________\n",
      "conv2d_2 (Conv2D)            (None, 4, 4, 64)          18496     \n",
      "_________________________________________________________________\n",
      "max_pooling2d_1 (MaxPooling2 (None, 2, 2, 64)          0         \n",
      "_________________________________________________________________\n",
      "conv2d_3 (Conv2D)            (None, 1, 1, 128)         73856     \n",
      "_________________________________________________________________\n",
      "max_pooling2d_2 (MaxPooling2 (None, 1, 1, 128)         0         \n",
      "_________________________________________________________________\n",
      "flatten (Flatten)            (None, 128)               0         \n",
      "_________________________________________________________________\n",
      "dense (Dense)                (None, 128)               16512     \n",
      "_________________________________________________________________\n",
      "dense_1 (Dense)              (None, 1)                 129       \n",
      "=================================================================\n",
      "Total params: 119,137\n",
      "Trainable params: 119,137\n",
      "Non-trainable params: 0\n",
      "_________________________________________________________________\n"
     ]
    }
   ],
   "source": [
    "model_summary = model.summary()\n",
    "with open('model_summary.txt', 'w') as f:\n",
    "    with redirect_stdout(f):\n",
    "        model.summary()"
   ]
  },
  {
   "cell_type": "code",
   "execution_count": 8,
   "id": "random-electronics",
   "metadata": {},
   "outputs": [],
   "source": [
    "training_data_image_classification = ImageDataGenerator(rescale = 1./255,\n",
    "                                                        rotation_range = 20,\n",
    "                                                        width_shift_range = 0.2,\n",
    "                                                        height_shift_range = 0.2,\n",
    "                                                        shear_range = 0.2,\n",
    "                                                        zoom_range = 0.2,\n",
    "                                                        fill_mode = 'nearest',\n",
    "                                                        horizontal_flip = True)\n",
    "\n",
    "validation_data_image_classification = ImageDataGenerator(rescale = 1./255,\n",
    "                                                        rotation_range = 20,\n",
    "                                                        width_shift_range = 0.2,\n",
    "                                                        height_shift_range = 0.2,\n",
    "                                                        shear_range = 0.2,\n",
    "                                                        zoom_range = 0.2,\n",
    "                                                        fill_mode = 'nearest',\n",
    "                                                        horizontal_flip = True)\n",
    "\n",
    "test_data_image_classification = ImageDataGenerator(rescale = 1./255,\n",
    "                                                        rotation_range = 20,\n",
    "                                                        width_shift_range = 0.2,\n",
    "                                                        height_shift_range = 0.2,\n",
    "                                                        shear_range = 0.2,\n",
    "                                                        zoom_range = 0.2,\n",
    "                                                        fill_mode = 'nearest',\n",
    "                                                        horizontal_flip = True)"
   ]
  },
  {
   "cell_type": "code",
   "execution_count": 9,
   "id": "fixed-ballet",
   "metadata": {},
   "outputs": [
    {
     "name": "stdout",
     "output_type": "stream",
     "text": [
      "Found 39 images belonging to 3 classes.\n"
     ]
    }
   ],
   "source": [
    "training_generator = training_data_image_classification.flow_from_directory(file_path_train,\n",
    "    target_size=(image_width, image_height),\n",
    "    batch_size=batch_size, class_mode=\"binary\")"
   ]
  },
  {
   "cell_type": "code",
   "execution_count": 10,
   "id": "considered-furniture",
   "metadata": {},
   "outputs": [
    {
     "name": "stdout",
     "output_type": "stream",
     "text": [
      "Found 9 images belonging to 3 classes.\n"
     ]
    }
   ],
   "source": [
    "validation_generator = validation_data_image_classification.flow_from_directory(file_path_validation,\n",
    "    target_size=(image_width, image_height),\n",
    "    batch_size=batch_size, class_mode=\"binary\")"
   ]
  },
  {
   "cell_type": "code",
   "execution_count": 11,
   "id": "dried-maine",
   "metadata": {},
   "outputs": [
    {
     "name": "stdout",
     "output_type": "stream",
     "text": [
      "Found 9 images belonging to 3 classes.\n"
     ]
    }
   ],
   "source": [
    "test_generator = test_data_image_classification.flow_from_directory(file_path_test,\n",
    "    target_size=(image_width, image_height),\n",
    "    batch_size=batch_size, class_mode=\"binary\")"
   ]
  },
  {
   "cell_type": "code",
   "execution_count": 12,
   "id": "still-queensland",
   "metadata": {},
   "outputs": [
    {
     "name": "stdout",
     "output_type": "stream",
     "text": [
      "data batch shape: (8, 200, 200, 3)\n",
      "labels batch shape: (8,)\n"
     ]
    }
   ],
   "source": [
    "for data_batch, labels_batch in training_generator:\n",
    "    print('data batch shape:', data_batch.shape)\n",
    "    print('labels batch shape:', labels_batch.shape)\n",
    "    break"
   ]
  },
  {
   "cell_type": "code",
   "execution_count": 13,
   "id": "nuclear-kansas",
   "metadata": {},
   "outputs": [
    {
     "name": "stdout",
     "output_type": "stream",
     "text": [
      "{'green_cubes': 0, 'red_cubes': 1, 'yellow_cubes': 2}\n"
     ]
    }
   ],
   "source": [
    "class_names = training_generator.class_indices\n",
    "print(class_names)"
   ]
  },
  {
   "cell_type": "code",
   "execution_count": 14,
   "id": "spare-market",
   "metadata": {},
   "outputs": [],
   "source": [
    " checkpoint = keras.callbacks.EarlyStopping(monitor='val_acc', patience=4, verbose=1)"
   ]
  },
  {
   "cell_type": "code",
   "execution_count": 24,
   "id": "sitting-array",
   "metadata": {},
   "outputs": [
    {
     "name": "stdout",
     "output_type": "stream",
     "text": [
      "Epoch 1/40\n",
      " 5/39 [==>...........................] - ETA: 4s - loss: -2193842.7500 - accuracy: 0.3333WARNING:tensorflow:Your input ran out of data; interrupting training. Make sure that your dataset or generator can generate at least `steps_per_epoch * epochs` batches (in this case, 1560 batches). You may need to use the repeat() function when building your dataset.\n",
      "39/39 [==============================] - 1s 24ms/step - loss: -2193842.7500 - accuracy: 0.3333 - val_loss: -953632.0000 - val_accuracy: 0.3750\n"
     ]
    }
   ],
   "source": [
    "# trained_model = model.fit(\n",
    "#     training_generator,\n",
    "#     steps_per_epoch=len(training_generator.filenames)//training_generator.batch_size,\n",
    "#     initial_epoch=epochs,\n",
    "#     epochs=epochs + cur_epoch,\n",
    "#     validation_data=validation_generator,\n",
    "#     validation_steps=len(validation_generator.filenames)//validation_generator.batch_size,\n",
    "#     callbacks=[checkpoint],\n",
    "#     shuffle = True, verbose=1)\n",
    "\n",
    "trained_model = model.fit(training_generator,\n",
    "                         steps_per_epoch = number_training_simple,\n",
    "                         epochs = epochs,\n",
    "                         validation_data = validation_generator,\n",
    "                         validation_steps = len(validation_generator.filenames)//validation_generator.batch_size)"
   ]
  },
  {
   "cell_type": "code",
   "execution_count": 16,
   "id": "editorial-greeting",
   "metadata": {},
   "outputs": [],
   "source": [
    "model.save_weights(\"CNN_cube_detector.h5\")"
   ]
  },
  {
   "cell_type": "code",
   "execution_count": 17,
   "id": "individual-machine",
   "metadata": {},
   "outputs": [
    {
     "data": {
      "image/png": "[encoded data removed]",
      "text/plain": [
       "<Figure size 1080x360 with 2 Axes>"
      ]
     },
     "metadata": {
      "needs_background": "light"
     },
     "output_type": "display_data"
    }
   ],
   "source": [
    "xlabel = 'Epoch'\n",
    "legends = ['Training', 'Validation']\n",
    "ylim_pad = [0.01, 0.1]\n",
    "plt.figure(figsize=(15, 5))\n",
    "y1 = trained_model.history['accuracy']\n",
    "y2 = trained_model.history['val_accuracy']\n",
    "\n",
    "min_y = min(min(y1), min(y2))-ylim_pad[0]\n",
    "max_y = max(max(y1), max(y2))+ylim_pad[0]\n",
    "\n",
    "\n",
    "plt.subplot(121)\n",
    "plt.plot(y1)\n",
    "plt.plot(y2)\n",
    "plt.title('Model Accuracy', fontsize=17)\n",
    "plt.xlabel(xlabel, fontsize=15)\n",
    "plt.ylabel('Accuracy', fontsize=15)\n",
    "plt.ylim(min_y, max_y)\n",
    "plt.legend(legends, loc='upper left')\n",
    "plt.grid()\n",
    "    \n",
    "y1 = trained_model.history['loss']\n",
    "y2 = trained_model.history['val_loss']\n",
    "min_y = min(min(y1), min(y2))-ylim_pad[1]\n",
    "max_y = max(max(y1), max(y2))+ylim_pad[1]\n",
    "    \n",
    "plt.subplot(122)\n",
    "plt.plot(y1)\n",
    "plt.plot(y2)\n",
    "\n",
    "plt.title('Model Loss', fontsize=17)\n",
    "plt.xlabel(xlabel, fontsize=15)\n",
    "plt.ylabel('Loss', fontsize=15)\n",
    "plt.ylim(min_y, max_y)\n",
    "plt.legend(legends, loc='upper left')\n",
    "plt.grid()                      \n",
    "plt.show()"
   ]
  },
  {
   "cell_type": "code",
   "execution_count": 18,
   "id": "dress-strand",
   "metadata": {},
   "outputs": [
    {
     "name": "stdout",
     "output_type": "stream",
     "text": [
      "results\n",
      "2/2 - 0s - loss: -1.4226e+06 - accuracy: 0.3333\n",
      "Loss     : -1422594.88  \n",
      "Accuracy : 33.33%\n"
     ]
    }
   ],
   "source": [
    "print(\"results\")\n",
    "result  = model.evaluate(test_generator, steps=len(test_generator), verbose=2)\n",
    "\n",
    "print(\"%s%.2f  \"% (\"Loss     : \", result[0]))\n",
    "print(\"%s%.2f%s\"% (\"Accuracy : \", result[1]*100, \"%\"))"
   ]
  },
  {
   "cell_type": "code",
   "execution_count": 19,
   "id": "rural-nightlife",
   "metadata": {},
   "outputs": [
    {
     "data": {
      "text/plain": [
       "{'green_cubes': 0, 'red_cubes': 1, 'yellow_cubes': 2}"
      ]
     },
     "execution_count": 19,
     "metadata": {},
     "output_type": "execute_result"
    }
   ],
   "source": [
    "classes = test_generator.class_indices\n",
    "classes"
   ]
  },
  {
   "cell_type": "code",
   "execution_count": 20,
   "id": "advanced-necessity",
   "metadata": {},
   "outputs": [
    {
     "name": "stdout",
     "output_type": "stream",
     "text": [
      "2/2 [==============================] - 0s 16ms/step\n",
      "[[1.]\n",
      " [1.]\n",
      " [1.]\n",
      " [1.]\n",
      " [1.]\n",
      " [1.]\n",
      " [1.]\n",
      " [1.]\n",
      " [1.]]\n"
     ]
    }
   ],
   "source": [
    "y_pred = model.predict(test_generator, steps=len(test_generator), verbose=1)\n",
    "# y_pred = y_pred.argmax(axis=-1)\n",
    "# y_pred = y_pred.reshape(1,9)\n",
    "# y_pred = y_pred[0]\n",
    "y_true=test_generator.classes\n",
    "print(y_pred)"
   ]
  },
  {
   "cell_type": "code",
   "execution_count": 21,
   "id": "infectious-bench",
   "metadata": {},
   "outputs": [
    {
     "ename": "TypeError",
     "evalue": "unhashable type: 'numpy.ndarray'",
     "output_type": "error",
     "traceback": [
      "\u001b[0;31m---------------------------------------------------------------------------\u001b[0m",
      "\u001b[0;31mTypeError\u001b[0m                                 Traceback (most recent call last)",
      "\u001b[0;32m<ipython-input-21-d29840cb370d>\u001b[0m in \u001b[0;36m<module>\u001b[0;34m\u001b[0m\n\u001b[0;32m----> 1\u001b[0;31m \u001b[0mset\u001b[0m\u001b[0;34m(\u001b[0m\u001b[0my_true\u001b[0m\u001b[0;34m)\u001b[0m \u001b[0;34m-\u001b[0m \u001b[0mset\u001b[0m\u001b[0;34m(\u001b[0m\u001b[0my_pred\u001b[0m\u001b[0;34m)\u001b[0m\u001b[0;34m\u001b[0m\u001b[0;34m\u001b[0m\u001b[0m\n\u001b[0m",
      "\u001b[0;31mTypeError\u001b[0m: unhashable type: 'numpy.ndarray'"
     ]
    }
   ],
   "source": [
    "set(y_true) - set(y_pred)"
   ]
  },
  {
   "cell_type": "code",
   "execution_count": null,
   "id": "convertible-yesterday",
   "metadata": {},
   "outputs": [],
   "source": [
    "image_file_name = \"/home/ronaldsonbellande/Desktop/mobile_robotics/personal_repository/color_cube_detector_using_machine_learning/\"\n",
    "\n",
    "file_path = 'CNN_cube_detector.h5'\n",
    "title = file_path.split(\"/\")\n",
    "model_title = \"/\".join([i for i in title[3:]])\n",
    "\n",
    "precision = precision_score(y_true, y_pred, average=\"weighted\") \n",
    "recall = recall_score(y_true, y_pred, average=\"weighted\") \n",
    "f1 = f1_score(y_true, y_pred, average=\"weighted\") \n",
    "\n",
    "print(\"-\"*90)\n",
    "print(\"Derived Report\")\n",
    "print(\"-\"*90)\n",
    "print(\"%s%.2f%s\"% (\"Precision     : \", precision*100, \"%\"))\n",
    "print(\"%s%.2f%s\"% (\"Recall        : \", recall*100,    \"%\"))\n",
    "print(\"%s%.2f%s\"% (\"F1-Score      : \", f1*100,        \"%\"))\n",
    "print(\"-\"*90)\n",
    "print(\"\\n\\n\")\n",
    "\n",
    "CM = confusion_matrix(y_true*10, y_pred*10)\n",
    "fig, ax = plot_confusion_matrix(conf_mat=CM , figsize=(10,8), hide_ticks=True, cmap=plt.cm.Blues)\n",
    "plt.xticks(range(len(classes)), classes, fontsize=10)\n",
    "plt.yticks(range(len(classes)), classes, fontsize=10)\n",
    "plt.title(\"Confusion Matrix for Model File (Test Dataset): \\n\"+model_title, fontsize=10)\n",
    "fig.savefig(image_file_name, dpi=100)\n",
    "plt.show()\n",
    "    \n",
    "\n",
    "cls_report_print = classification_report(y_true, y_pred, target_names=classes)\n",
    "\n",
    "cls_report = classification_report(y_true, y_pred, target_names=classes, output_dict=True)\n",
    "\n",
    "print(\"\\n\\n\")\n",
    "print(\"-\"*90)\n",
    "print(\"Report for Model File: \", model_title)\n",
    "print(\"-\"*90)\n",
    "print(cls_report_print)\n",
    "print(\"-\"*90)"
   ]
  },
  {
   "cell_type": "code",
   "execution_count": null,
   "id": "instructional-volleyball",
   "metadata": {},
   "outputs": [],
   "source": []
  },
  {
   "cell_type": "code",
   "execution_count": null,
   "id": "metallic-chemistry",
   "metadata": {},
   "outputs": [],
   "source": []
  },
  {
   "cell_type": "code",
   "execution_count": null,
   "id": "atlantic-stroke",
   "metadata": {},
   "outputs": [],
   "source": []
  }
 ],
 "metadata": {
  "kernelspec": {
   "display_name": "Python 3",
   "language": "python",
   "name": "python3"
  },
  "language_info": {
   "codemirror_mode": {
    "name": "ipython",
    "version": 3
   },
   "file_extension": ".py",
   "mimetype": "text/x-python",
   "name": "python",
   "nbconvert_exporter": "python",
   "pygments_lexer": "ipython3",
   "version": "3.8.5"
  }
 },
 "nbformat": 4,
 "nbformat_minor": 5
}
