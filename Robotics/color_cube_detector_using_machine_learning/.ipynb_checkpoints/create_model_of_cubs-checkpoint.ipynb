{
 "cells": [
  {
   "cell_type": "code",
   "execution_count": 1,
   "id": "tough-filename",
   "metadata": {},
   "outputs": [],
   "source": [
    "import numpy as np\n",
    "import matplotlib.pyplot as plt\n",
    "import matplotlib\n",
    "import cairo"
   ]
  },
  {
   "cell_type": "code",
   "execution_count": 2,
   "id": "asian-alpha",
   "metadata": {},
   "outputs": [],
   "source": [
    "import matplotlib.pyplot as plt\n",
    "import matplotlib.image as mpimg\n",
    "from keras.preprocessing.image import ImageDataGenerator\n",
    "from keras.models import Sequential, Model\n",
    "from keras.optimizers import RMSprop\n",
    "from keras.layers import Activation, Dropout, Flatten, Dense, GlobalMaxPooling2D, Conv2D, MaxPooling2D\n",
    "from keras.callbacks import CSVLogger\n",
    "from livelossplot.keras import PlotLossesCallback\n",
    "import efficientnet.keras as efn\n",
    "import keras\n",
    "import matplotlib.pyplot as plt\n",
    "import pickle\n",
    "import sys\n",
    "import numpy as np\n",
    "from keras import optimizers\n",
    "import os\n",
    "from mlxtend.plotting import plot_confusion_matrix\n",
    "import random\n",
    "from PIL import Image\n",
    "from contextlib import redirect_stdout\n",
    "from sklearn.metrics import precision_score, recall_score, f1_score, roc_auc_score, confusion_matrix, classification_report"
   ]
  },
  {
   "cell_type": "code",
   "execution_count": 3,
   "id": "damaged-injury",
   "metadata": {},
   "outputs": [],
   "source": [
    "image_width, image_height = 200, 200\n",
    "epochs = 0\n",
    "cur_epoch = 64\n",
    "batch_size = 8\n",
    "test_size = 30\n",
    "input_shape = (image_width, image_height, 3)\n",
    "file_path_train = r\"/home/ronaldsonbellande/Desktop/mobile_robotics/personal_repository/color_cube_detector_using_machine_learning/training_image_cubes/\"\n",
    "file_path_validation = r\"/home/ronaldsonbellande/Desktop/mobile_robotics/personal_repository/color_cube_detector_using_machine_learning/validation/\"\n",
    "file_path_test = r\"/home/ronaldsonbellande/Desktop/mobile_robotics/personal_repository/color_cube_detector_using_machine_learning/testing/\""
   ]
  },
  {
   "cell_type": "code",
   "execution_count": 4,
   "id": "fifth-panic",
   "metadata": {},
   "outputs": [],
   "source": [
    "model = Sequential()\n",
    "model = Sequential()\n",
    "\n",
    "model.add(Conv2D(32, 3, 3, padding='same', input_shape=input_shape, activation='relu'))\n",
    "model.add(Conv2D(32, 3, 3, padding='same', activation='relu'))\n",
    "model.add(MaxPooling2D(pool_size=(2, 2)))\n",
    "\n",
    "model.add(Conv2D(64, 3, 3, padding='same', activation='relu'))\n",
    "model.add(Conv2D(64, 3, 3, padding='same', activation='relu'))\n",
    "model.add(MaxPooling2D(pool_size=(2, 2)))\n",
    "\n",
    "model.add(Conv2D(128, 3, 3, padding='same', activation='relu'))\n",
    "model.add(Conv2D(128, 3, 3, padding='same', activation='relu'))\n",
    "model.add(MaxPooling2D(pool_size=(2, 2), padding='same'))\n",
    "\n",
    "model.add(Flatten())\n",
    "model.add(Dense(128, activation='relu'))\n",
    "model.add(Dropout(0.5))\n",
    "\n",
    "model.add(Dense(128, activation='relu'))\n",
    "model.add(Dropout(0.5))\n",
    "\n",
    "model.add(Dense(1))\n",
    "model.add(Activation('sigmoid'))\n",
    "\n",
    "model.compile(loss='binary_crossentropy',\n",
    "            optimizer=RMSprop(lr=0.0001),\n",
    "            metrics=['accuracy'])\n",
    "\n",
    "# model.compile(loss='binary_crossentropy',\n",
    "#             optimizer=RMSprop(lr=0.0001),\n",
    "#             metrics=['accuracy'])"
   ]
  },
  {
   "cell_type": "code",
   "execution_count": 5,
   "id": "pretty-wells",
   "metadata": {},
   "outputs": [
    {
     "name": "stdout",
     "output_type": "stream",
     "text": [
      "Model: \"sequential_1\"\n",
      "_________________________________________________________________\n",
      "Layer (type)                 Output Shape              Param #   \n",
      "=================================================================\n",
      "conv2d (Conv2D)              (None, 67, 67, 32)        896       \n",
      "_________________________________________________________________\n",
      "conv2d_1 (Conv2D)            (None, 23, 23, 32)        9248      \n",
      "_________________________________________________________________\n",
      "max_pooling2d (MaxPooling2D) (None, 11, 11, 32)        0         \n",
      "_________________________________________________________________\n",
      "conv2d_2 (Conv2D)            (None, 4, 4, 64)          18496     \n",
      "_________________________________________________________________\n",
      "conv2d_3 (Conv2D)            (None, 2, 2, 64)          36928     \n",
      "_________________________________________________________________\n",
      "max_pooling2d_1 (MaxPooling2 (None, 1, 1, 64)          0         \n",
      "_________________________________________________________________\n",
      "conv2d_4 (Conv2D)            (None, 1, 1, 128)         73856     \n",
      "_________________________________________________________________\n",
      "conv2d_5 (Conv2D)            (None, 1, 1, 128)         147584    \n",
      "_________________________________________________________________\n",
      "max_pooling2d_2 (MaxPooling2 (None, 1, 1, 128)         0         \n",
      "_________________________________________________________________\n",
      "flatten (Flatten)            (None, 128)               0         \n",
      "_________________________________________________________________\n",
      "dense (Dense)                (None, 128)               16512     \n",
      "_________________________________________________________________\n",
      "dropout (Dropout)            (None, 128)               0         \n",
      "_________________________________________________________________\n",
      "dense_1 (Dense)              (None, 128)               16512     \n",
      "_________________________________________________________________\n",
      "dropout_1 (Dropout)          (None, 128)               0         \n",
      "_________________________________________________________________\n",
      "dense_2 (Dense)              (None, 1)                 129       \n",
      "_________________________________________________________________\n",
      "activation (Activation)      (None, 1)                 0         \n",
      "=================================================================\n",
      "Total params: 320,161\n",
      "Trainable params: 320,161\n",
      "Non-trainable params: 0\n",
      "_________________________________________________________________\n"
     ]
    }
   ],
   "source": [
    "model_summary = model.summary()\n",
    "with open('model_summary.txt', 'w') as f:\n",
    "    with redirect_stdout(f):\n",
    "        model.summary()"
   ]
  },
  {
   "cell_type": "code",
   "execution_count": 6,
   "id": "written-grill",
   "metadata": {},
   "outputs": [],
   "source": [
    "scale = 1./255\n",
    "training_data_image_classification = ImageDataGenerator(rescale= scale, shear_range=0.1, zoom_range=0.1, horizontal_flip=True)\n",
    "validation_data_image_classification = ImageDataGenerator(rescale= scale)\n",
    "test_data_image_classification = ImageDataGenerator(rescale= scale)"
   ]
  },
  {
   "cell_type": "code",
   "execution_count": 7,
   "id": "metallic-monitoring",
   "metadata": {},
   "outputs": [
    {
     "name": "stdout",
     "output_type": "stream",
     "text": [
      "Found 15 images belonging to 3 classes.\n"
     ]
    }
   ],
   "source": [
    "training_generator = training_data_image_classification.flow_from_directory(file_path_train,\n",
    "    target_size=(image_width, image_height),\n",
    "    batch_size=batch_size, class_mode=\"binary\")"
   ]
  },
  {
   "cell_type": "code",
   "execution_count": 8,
   "id": "corresponding-convert",
   "metadata": {},
   "outputs": [
    {
     "name": "stdout",
     "output_type": "stream",
     "text": [
      "Found 9 images belonging to 3 classes.\n"
     ]
    }
   ],
   "source": [
    "validation_generator = validation_data_image_classification.flow_from_directory(file_path_validation,\n",
    "    target_size=(image_width, image_height),\n",
    "    batch_size=batch_size, class_mode=\"binary\")"
   ]
  },
  {
   "cell_type": "code",
   "execution_count": 9,
   "id": "romance-trade",
   "metadata": {},
   "outputs": [
    {
     "name": "stdout",
     "output_type": "stream",
     "text": [
      "Found 9 images belonging to 3 classes.\n"
     ]
    }
   ],
   "source": [
    "test_generator = test_data_image_classification.flow_from_directory(file_path_test,\n",
    "    target_size=(image_width, image_height),\n",
    "    batch_size=1,\n",
    "    class_mode=\"binary\", \n",
    "    shuffle=False)"
   ]
  },
  {
   "cell_type": "code",
   "execution_count": 10,
   "id": "further-powder",
   "metadata": {},
   "outputs": [
    {
     "name": "stdout",
     "output_type": "stream",
     "text": [
      "data batch shape: (8, 200, 200, 3)\n",
      "labels batch shape: (8,)\n"
     ]
    }
   ],
   "source": [
    "for data_batch, labels_batch in training_generator:\n",
    "    print('data batch shape:', data_batch.shape)\n",
    "    print('labels batch shape:', labels_batch.shape)\n",
    "    break"
   ]
  },
  {
   "cell_type": "code",
   "execution_count": 11,
   "id": "stuffed-crawford",
   "metadata": {},
   "outputs": [
    {
     "name": "stdout",
     "output_type": "stream",
     "text": [
      "{'green_cubes': 0, 'red_cubes': 1, 'yellow_cubes': 2}\n"
     ]
    }
   ],
   "source": [
    "class_names = training_generator.class_indices\n",
    "print(class_names)"
   ]
  },
  {
   "cell_type": "code",
   "execution_count": 12,
   "id": "appointed-operations",
   "metadata": {},
   "outputs": [],
   "source": [
    " checkpoint = keras.callbacks.EarlyStopping(monitor='val_acc', patience=4, verbose=1)"
   ]
  },
  {
   "cell_type": "code",
   "execution_count": 13,
   "id": "later-machine",
   "metadata": {},
   "outputs": [
    {
     "name": "stdout",
     "output_type": "stream",
     "text": [
      "Epoch 1/64\n",
      "1/1 [==============================] - 3s 3s/step - loss: 0.6914 - accuracy: 0.5714 - val_loss: 0.6885 - val_accuracy: 0.3750\n",
      "WARNING:tensorflow:Early stopping conditioned on metric `val_acc` which is not available. Available metrics are: loss,accuracy,val_loss,val_accuracy\n",
      "Epoch 2/64\n",
      "1/1 [==============================] - 0s 268ms/step - loss: 0.6867 - accuracy: 0.1429 - val_loss: 0.6856 - val_accuracy: 0.3750\n",
      "WARNING:tensorflow:Early stopping conditioned on metric `val_acc` which is not available. Available metrics are: loss,accuracy,val_loss,val_accuracy\n",
      "Epoch 3/64\n",
      "1/1 [==============================] - 0s 278ms/step - loss: 0.6869 - accuracy: 0.2857 - val_loss: 0.6829 - val_accuracy: 0.3750\n",
      "WARNING:tensorflow:Early stopping conditioned on metric `val_acc` which is not available. Available metrics are: loss,accuracy,val_loss,val_accuracy\n",
      "Epoch 4/64\n",
      "1/1 [==============================] - 0s 270ms/step - loss: 0.6897 - accuracy: 0.4286 - val_loss: 0.6815 - val_accuracy: 0.3750\n",
      "WARNING:tensorflow:Early stopping conditioned on metric `val_acc` which is not available. Available metrics are: loss,accuracy,val_loss,val_accuracy\n",
      "Epoch 5/64\n",
      "1/1 [==============================] - 0s 305ms/step - loss: 0.6860 - accuracy: 0.2857 - val_loss: 0.6815 - val_accuracy: 0.2500\n",
      "WARNING:tensorflow:Early stopping conditioned on metric `val_acc` which is not available. Available metrics are: loss,accuracy,val_loss,val_accuracy\n",
      "Epoch 6/64\n",
      "1/1 [==============================] - 0s 281ms/step - loss: 0.6798 - accuracy: 0.4286 - val_loss: 0.6765 - val_accuracy: 0.3750\n",
      "WARNING:tensorflow:Early stopping conditioned on metric `val_acc` which is not available. Available metrics are: loss,accuracy,val_loss,val_accuracy\n",
      "Epoch 7/64\n",
      "1/1 [==============================] - 0s 275ms/step - loss: 0.6826 - accuracy: 0.2500 - val_loss: 0.6811 - val_accuracy: 0.3750\n",
      "WARNING:tensorflow:Early stopping conditioned on metric `val_acc` which is not available. Available metrics are: loss,accuracy,val_loss,val_accuracy\n",
      "Epoch 8/64\n",
      "1/1 [==============================] - 0s 271ms/step - loss: 0.6810 - accuracy: 0.2857 - val_loss: 0.6721 - val_accuracy: 0.3750\n",
      "WARNING:tensorflow:Early stopping conditioned on metric `val_acc` which is not available. Available metrics are: loss,accuracy,val_loss,val_accuracy\n",
      "Epoch 9/64\n",
      "1/1 [==============================] - 0s 310ms/step - loss: 0.6822 - accuracy: 0.2500 - val_loss: 0.6732 - val_accuracy: 0.2500\n",
      "WARNING:tensorflow:Early stopping conditioned on metric `val_acc` which is not available. Available metrics are: loss,accuracy,val_loss,val_accuracy\n",
      "Epoch 10/64\n",
      "1/1 [==============================] - 0s 297ms/step - loss: 0.6824 - accuracy: 0.5714 - val_loss: 0.6712 - val_accuracy: 0.2500\n",
      "WARNING:tensorflow:Early stopping conditioned on metric `val_acc` which is not available. Available metrics are: loss,accuracy,val_loss,val_accuracy\n",
      "Epoch 11/64\n",
      "1/1 [==============================] - 0s 286ms/step - loss: 0.6713 - accuracy: 0.1250 - val_loss: 0.6742 - val_accuracy: 0.3750\n",
      "WARNING:tensorflow:Early stopping conditioned on metric `val_acc` which is not available. Available metrics are: loss,accuracy,val_loss,val_accuracy\n",
      "Epoch 12/64\n",
      "1/1 [==============================] - 0s 301ms/step - loss: 0.6777 - accuracy: 0.5714 - val_loss: 0.6609 - val_accuracy: 0.3750\n",
      "WARNING:tensorflow:Early stopping conditioned on metric `val_acc` which is not available. Available metrics are: loss,accuracy,val_loss,val_accuracy\n",
      "Epoch 13/64\n",
      "1/1 [==============================] - 0s 292ms/step - loss: 0.6671 - accuracy: 0.3750 - val_loss: 0.6569 - val_accuracy: 0.3750\n",
      "WARNING:tensorflow:Early stopping conditioned on metric `val_acc` which is not available. Available metrics are: loss,accuracy,val_loss,val_accuracy\n",
      "Epoch 14/64\n",
      "1/1 [==============================] - 0s 314ms/step - loss: 0.6424 - accuracy: 0.2500 - val_loss: 0.6568 - val_accuracy: 0.2500\n",
      "WARNING:tensorflow:Early stopping conditioned on metric `val_acc` which is not available. Available metrics are: loss,accuracy,val_loss,val_accuracy\n",
      "Epoch 15/64\n",
      "1/1 [==============================] - 0s 276ms/step - loss: 0.6201 - accuracy: 0.1429 - val_loss: 0.6502 - val_accuracy: 0.2500\n",
      "WARNING:tensorflow:Early stopping conditioned on metric `val_acc` which is not available. Available metrics are: loss,accuracy,val_loss,val_accuracy\n",
      "Epoch 16/64\n",
      "1/1 [==============================] - 0s 294ms/step - loss: 0.6271 - accuracy: 0.4286 - val_loss: 0.6446 - val_accuracy: 0.2500\n",
      "WARNING:tensorflow:Early stopping conditioned on metric `val_acc` which is not available. Available metrics are: loss,accuracy,val_loss,val_accuracy\n",
      "Epoch 17/64\n",
      "1/1 [==============================] - 0s 289ms/step - loss: 0.6174 - accuracy: 0.3750 - val_loss: 0.6508 - val_accuracy: 0.3750\n",
      "WARNING:tensorflow:Early stopping conditioned on metric `val_acc` which is not available. Available metrics are: loss,accuracy,val_loss,val_accuracy\n",
      "Epoch 18/64\n",
      "1/1 [==============================] - 0s 320ms/step - loss: 0.6463 - accuracy: 0.2500 - val_loss: 0.6254 - val_accuracy: 0.3750\n",
      "WARNING:tensorflow:Early stopping conditioned on metric `val_acc` which is not available. Available metrics are: loss,accuracy,val_loss,val_accuracy\n",
      "Epoch 19/64\n",
      "1/1 [==============================] - 0s 289ms/step - loss: 0.6260 - accuracy: 0.4286 - val_loss: 0.6283 - val_accuracy: 0.2500\n",
      "WARNING:tensorflow:Early stopping conditioned on metric `val_acc` which is not available. Available metrics are: loss,accuracy,val_loss,val_accuracy\n",
      "Epoch 20/64\n",
      "1/1 [==============================] - 0s 303ms/step - loss: 0.6693 - accuracy: 0.1429 - val_loss: 0.6433 - val_accuracy: 0.3750\n",
      "WARNING:tensorflow:Early stopping conditioned on metric `val_acc` which is not available. Available metrics are: loss,accuracy,val_loss,val_accuracy\n",
      "Epoch 21/64\n",
      "1/1 [==============================] - 0s 290ms/step - loss: 0.6087 - accuracy: 0.5714 - val_loss: 0.6379 - val_accuracy: 0.3750\n",
      "WARNING:tensorflow:Early stopping conditioned on metric `val_acc` which is not available. Available metrics are: loss,accuracy,val_loss,val_accuracy\n",
      "Epoch 22/64\n",
      "1/1 [==============================] - 0s 310ms/step - loss: 0.6319 - accuracy: 0.2857 - val_loss: 0.6018 - val_accuracy: 0.3750\n",
      "WARNING:tensorflow:Early stopping conditioned on metric `val_acc` which is not available. Available metrics are: loss,accuracy,val_loss,val_accuracy\n",
      "Epoch 23/64\n",
      "1/1 [==============================] - 0s 281ms/step - loss: 0.6055 - accuracy: 0.2500 - val_loss: 0.6065 - val_accuracy: 0.2500\n",
      "WARNING:tensorflow:Early stopping conditioned on metric `val_acc` which is not available. Available metrics are: loss,accuracy,val_loss,val_accuracy\n",
      "Epoch 24/64\n",
      "1/1 [==============================] - 0s 286ms/step - loss: 0.6057 - accuracy: 0.2857 - val_loss: 0.6231 - val_accuracy: 0.3750\n",
      "WARNING:tensorflow:Early stopping conditioned on metric `val_acc` which is not available. Available metrics are: loss,accuracy,val_loss,val_accuracy\n",
      "Epoch 25/64\n",
      "1/1 [==============================] - 0s 287ms/step - loss: 0.6193 - accuracy: 0.3750 - val_loss: 0.5925 - val_accuracy: 0.2500\n",
      "WARNING:tensorflow:Early stopping conditioned on metric `val_acc` which is not available. Available metrics are: loss,accuracy,val_loss,val_accuracy\n",
      "Epoch 26/64\n",
      "1/1 [==============================] - 0s 342ms/step - loss: 0.6742 - accuracy: 0.2500 - val_loss: 0.6140 - val_accuracy: 0.3750\n",
      "WARNING:tensorflow:Early stopping conditioned on metric `val_acc` which is not available. Available metrics are: loss,accuracy,val_loss,val_accuracy\n",
      "Epoch 27/64\n",
      "1/1 [==============================] - 0s 274ms/step - loss: 0.5291 - accuracy: 0.2857 - val_loss: 0.6057 - val_accuracy: 0.3750\n",
      "WARNING:tensorflow:Early stopping conditioned on metric `val_acc` which is not available. Available metrics are: loss,accuracy,val_loss,val_accuracy\n",
      "Epoch 28/64\n",
      "1/1 [==============================] - 0s 283ms/step - loss: 0.5525 - accuracy: 0.0000e+00 - val_loss: 0.5975 - val_accuracy: 0.3750\n",
      "WARNING:tensorflow:Early stopping conditioned on metric `val_acc` which is not available. Available metrics are: loss,accuracy,val_loss,val_accuracy\n",
      "Epoch 29/64\n",
      "1/1 [==============================] - 0s 312ms/step - loss: 0.5493 - accuracy: 0.3750 - val_loss: 0.5547 - val_accuracy: 0.2500\n",
      "WARNING:tensorflow:Early stopping conditioned on metric `val_acc` which is not available. Available metrics are: loss,accuracy,val_loss,val_accuracy\n",
      "Epoch 30/64\n",
      "1/1 [==============================] - 0s 300ms/step - loss: 0.5305 - accuracy: 0.3750 - val_loss: 0.5793 - val_accuracy: 0.3750\n",
      "WARNING:tensorflow:Early stopping conditioned on metric `val_acc` which is not available. Available metrics are: loss,accuracy,val_loss,val_accuracy\n",
      "Epoch 31/64\n",
      "1/1 [==============================] - 0s 298ms/step - loss: 0.4909 - accuracy: 0.2857 - val_loss: 0.5012 - val_accuracy: 0.3750\n",
      "WARNING:tensorflow:Early stopping conditioned on metric `val_acc` which is not available. Available metrics are: loss,accuracy,val_loss,val_accuracy\n",
      "Epoch 32/64\n",
      "1/1 [==============================] - 0s 282ms/step - loss: 0.6165 - accuracy: 0.3750 - val_loss: 0.4938 - val_accuracy: 0.3750\n",
      "WARNING:tensorflow:Early stopping conditioned on metric `val_acc` which is not available. Available metrics are: loss,accuracy,val_loss,val_accuracy\n",
      "Epoch 33/64\n",
      "1/1 [==============================] - 0s 286ms/step - loss: 0.6491 - accuracy: 0.4286 - val_loss: 0.5164 - val_accuracy: 0.2500\n",
      "WARNING:tensorflow:Early stopping conditioned on metric `val_acc` which is not available. Available metrics are: loss,accuracy,val_loss,val_accuracy\n",
      "Epoch 34/64\n",
      "1/1 [==============================] - 0s 283ms/step - loss: 0.4886 - accuracy: 0.1429 - val_loss: 0.5012 - val_accuracy: 0.2500\n",
      "WARNING:tensorflow:Early stopping conditioned on metric `val_acc` which is not available. Available metrics are: loss,accuracy,val_loss,val_accuracy\n",
      "Epoch 35/64\n",
      "1/1 [==============================] - 0s 297ms/step - loss: 0.5940 - accuracy: 0.4286 - val_loss: 0.4925 - val_accuracy: 0.2500\n",
      "WARNING:tensorflow:Early stopping conditioned on metric `val_acc` which is not available. Available metrics are: loss,accuracy,val_loss,val_accuracy\n",
      "Epoch 36/64\n",
      "1/1 [==============================] - 0s 291ms/step - loss: 0.3962 - accuracy: 0.2857 - val_loss: 0.4682 - val_accuracy: 0.2500\n",
      "WARNING:tensorflow:Early stopping conditioned on metric `val_acc` which is not available. Available metrics are: loss,accuracy,val_loss,val_accuracy\n",
      "Epoch 37/64\n",
      "1/1 [==============================] - 0s 262ms/step - loss: 0.4426 - accuracy: 0.2857 - val_loss: 0.4535 - val_accuracy: 0.2500\n",
      "WARNING:tensorflow:Early stopping conditioned on metric `val_acc` which is not available. Available metrics are: loss,accuracy,val_loss,val_accuracy\n",
      "Epoch 38/64\n",
      "1/1 [==============================] - 0s 310ms/step - loss: 0.4167 - accuracy: 0.3750 - val_loss: 0.4331 - val_accuracy: 0.2500\n",
      "WARNING:tensorflow:Early stopping conditioned on metric `val_acc` which is not available. Available metrics are: loss,accuracy,val_loss,val_accuracy\n",
      "Epoch 39/64\n",
      "1/1 [==============================] - 0s 301ms/step - loss: 0.5947 - accuracy: 0.3750 - val_loss: 0.4253 - val_accuracy: 0.2500\n",
      "WARNING:tensorflow:Early stopping conditioned on metric `val_acc` which is not available. Available metrics are: loss,accuracy,val_loss,val_accuracy\n",
      "Epoch 40/64\n",
      "1/1 [==============================] - 0s 297ms/step - loss: 0.4661 - accuracy: 0.2500 - val_loss: 0.4801 - val_accuracy: 0.3750\n",
      "WARNING:tensorflow:Early stopping conditioned on metric `val_acc` which is not available. Available metrics are: loss,accuracy,val_loss,val_accuracy\n",
      "Epoch 41/64\n",
      "1/1 [==============================] - 0s 281ms/step - loss: 0.4547 - accuracy: 0.5000 - val_loss: 0.3508 - val_accuracy: 0.3750\n",
      "WARNING:tensorflow:Early stopping conditioned on metric `val_acc` which is not available. Available metrics are: loss,accuracy,val_loss,val_accuracy\n",
      "Epoch 42/64\n",
      "1/1 [==============================] - 0s 289ms/step - loss: 0.2286 - accuracy: 0.0000e+00 - val_loss: 0.3600 - val_accuracy: 0.2500\n",
      "WARNING:tensorflow:Early stopping conditioned on metric `val_acc` which is not available. Available metrics are: loss,accuracy,val_loss,val_accuracy\n",
      "Epoch 43/64\n",
      "1/1 [==============================] - 0s 311ms/step - loss: 0.3535 - accuracy: 0.2500 - val_loss: 0.2905 - val_accuracy: 0.3750\n",
      "WARNING:tensorflow:Early stopping conditioned on metric `val_acc` which is not available. Available metrics are: loss,accuracy,val_loss,val_accuracy\n",
      "Epoch 44/64\n",
      "1/1 [==============================] - 0s 295ms/step - loss: 0.0715 - accuracy: 0.2857 - val_loss: 0.4037 - val_accuracy: 0.3750\n",
      "WARNING:tensorflow:Early stopping conditioned on metric `val_acc` which is not available. Available metrics are: loss,accuracy,val_loss,val_accuracy\n",
      "Epoch 45/64\n",
      "1/1 [==============================] - 0s 314ms/step - loss: 0.4641 - accuracy: 0.5714 - val_loss: 0.3807 - val_accuracy: 0.3750\n",
      "WARNING:tensorflow:Early stopping conditioned on metric `val_acc` which is not available. Available metrics are: loss,accuracy,val_loss,val_accuracy\n",
      "Epoch 46/64\n",
      "1/1 [==============================] - 0s 385ms/step - loss: 0.1958 - accuracy: 0.4286 - val_loss: 0.2529 - val_accuracy: 0.2500\n",
      "WARNING:tensorflow:Early stopping conditioned on metric `val_acc` which is not available. Available metrics are: loss,accuracy,val_loss,val_accuracy\n",
      "Epoch 47/64\n",
      "1/1 [==============================] - 0s 336ms/step - loss: 0.5434 - accuracy: 0.2857 - val_loss: 0.3625 - val_accuracy: 0.3750\n",
      "WARNING:tensorflow:Early stopping conditioned on metric `val_acc` which is not available. Available metrics are: loss,accuracy,val_loss,val_accuracy\n",
      "Epoch 48/64\n",
      "1/1 [==============================] - 0s 262ms/step - loss: 0.2951 - accuracy: 0.2857 - val_loss: 0.2188 - val_accuracy: 0.2500\n",
      "WARNING:tensorflow:Early stopping conditioned on metric `val_acc` which is not available. Available metrics are: loss,accuracy,val_loss,val_accuracy\n",
      "Epoch 49/64\n",
      "1/1 [==============================] - 0s 268ms/step - loss: 0.1782 - accuracy: 0.6250 - val_loss: 0.1134 - val_accuracy: 0.3750\n",
      "WARNING:tensorflow:Early stopping conditioned on metric `val_acc` which is not available. Available metrics are: loss,accuracy,val_loss,val_accuracy\n",
      "Epoch 50/64\n",
      "1/1 [==============================] - 0s 283ms/step - loss: -0.0338 - accuracy: 0.4286 - val_loss: 0.1447 - val_accuracy: 0.2500\n",
      "WARNING:tensorflow:Early stopping conditioned on metric `val_acc` which is not available. Available metrics are: loss,accuracy,val_loss,val_accuracy\n",
      "Epoch 51/64\n",
      "1/1 [==============================] - 0s 278ms/step - loss: 0.3150 - accuracy: 0.1429 - val_loss: 0.2801 - val_accuracy: 0.3750\n",
      "WARNING:tensorflow:Early stopping conditioned on metric `val_acc` which is not available. Available metrics are: loss,accuracy,val_loss,val_accuracy\n",
      "Epoch 52/64\n",
      "1/1 [==============================] - 0s 300ms/step - loss: 0.3628 - accuracy: 0.2500 - val_loss: 0.0293 - val_accuracy: 0.3750\n",
      "WARNING:tensorflow:Early stopping conditioned on metric `val_acc` which is not available. Available metrics are: loss,accuracy,val_loss,val_accuracy\n",
      "Epoch 53/64\n",
      "1/1 [==============================] - 0s 275ms/step - loss: 0.3264 - accuracy: 0.3750 - val_loss: 0.0748 - val_accuracy: 0.2500\n",
      "WARNING:tensorflow:Early stopping conditioned on metric `val_acc` which is not available. Available metrics are: loss,accuracy,val_loss,val_accuracy\n",
      "Epoch 54/64\n",
      "1/1 [==============================] - 0s 285ms/step - loss: 0.1019 - accuracy: 0.3750 - val_loss: 0.0373 - val_accuracy: 0.2500\n",
      "WARNING:tensorflow:Early stopping conditioned on metric `val_acc` which is not available. Available metrics are: loss,accuracy,val_loss,val_accuracy\n",
      "Epoch 55/64\n",
      "1/1 [==============================] - 0s 283ms/step - loss: -0.3576 - accuracy: 0.6250 - val_loss: -0.1169 - val_accuracy: 0.3750\n",
      "WARNING:tensorflow:Early stopping conditioned on metric `val_acc` which is not available. Available metrics are: loss,accuracy,val_loss,val_accuracy\n",
      "Epoch 56/64\n",
      "1/1 [==============================] - 0s 294ms/step - loss: 0.1801 - accuracy: 0.2500 - val_loss: -0.1460 - val_accuracy: 0.3750\n",
      "WARNING:tensorflow:Early stopping conditioned on metric `val_acc` which is not available. Available metrics are: loss,accuracy,val_loss,val_accuracy\n",
      "Epoch 57/64\n",
      "1/1 [==============================] - 0s 319ms/step - loss: 0.1857 - accuracy: 0.2857 - val_loss: -0.1729 - val_accuracy: 0.3750\n",
      "WARNING:tensorflow:Early stopping conditioned on metric `val_acc` which is not available. Available metrics are: loss,accuracy,val_loss,val_accuracy\n",
      "Epoch 58/64\n",
      "1/1 [==============================] - 0s 309ms/step - loss: 0.1569 - accuracy: 0.3750 - val_loss: -0.0863 - val_accuracy: 0.2500\n",
      "WARNING:tensorflow:Early stopping conditioned on metric `val_acc` which is not available. Available metrics are: loss,accuracy,val_loss,val_accuracy\n",
      "Epoch 59/64\n",
      "1/1 [==============================] - 0s 287ms/step - loss: -0.0281 - accuracy: 0.4286 - val_loss: -0.1347 - val_accuracy: 0.2500\n",
      "WARNING:tensorflow:Early stopping conditioned on metric `val_acc` which is not available. Available metrics are: loss,accuracy,val_loss,val_accuracy\n",
      "Epoch 60/64\n",
      "1/1 [==============================] - 0s 276ms/step - loss: -0.2589 - accuracy: 0.2857 - val_loss: -0.3106 - val_accuracy: 0.3750\n",
      "WARNING:tensorflow:Early stopping conditioned on metric `val_acc` which is not available. Available metrics are: loss,accuracy,val_loss,val_accuracy\n",
      "Epoch 61/64\n",
      "1/1 [==============================] - 0s 283ms/step - loss: -1.5545 - accuracy: 0.2857 - val_loss: -0.2711 - val_accuracy: 0.2500\n",
      "WARNING:tensorflow:Early stopping conditioned on metric `val_acc` which is not available. Available metrics are: loss,accuracy,val_loss,val_accuracy\n",
      "Epoch 62/64\n",
      "1/1 [==============================] - 0s 278ms/step - loss: 0.0677 - accuracy: 0.2857 - val_loss: -0.2937 - val_accuracy: 0.2500\n",
      "WARNING:tensorflow:Early stopping conditioned on metric `val_acc` which is not available. Available metrics are: loss,accuracy,val_loss,val_accuracy\n",
      "Epoch 63/64\n",
      "1/1 [==============================] - 0s 285ms/step - loss: -0.7377 - accuracy: 0.2857 - val_loss: -0.0296 - val_accuracy: 0.3750\n",
      "WARNING:tensorflow:Early stopping conditioned on metric `val_acc` which is not available. Available metrics are: loss,accuracy,val_loss,val_accuracy\n",
      "Epoch 64/64\n",
      "1/1 [==============================] - 0s 281ms/step - loss: -0.6672 - accuracy: 0.4286 - val_loss: -0.5709 - val_accuracy: 0.3750\n",
      "WARNING:tensorflow:Early stopping conditioned on metric `val_acc` which is not available. Available metrics are: loss,accuracy,val_loss,val_accuracy\n"
     ]
    }
   ],
   "source": [
    "trained_model = model.fit(\n",
    "    training_generator,\n",
    "    steps_per_epoch=len(training_generator.filenames)//training_generator.batch_size,\n",
    "    initial_epoch=epochs,\n",
    "    epochs=epochs + cur_epoch,\n",
    "    validation_data=validation_generator,\n",
    "    validation_steps=len(validation_generator.filenames)//validation_generator.batch_size,\n",
    "    callbacks=[checkpoint],\n",
    "    shuffle = True, verbose=1)"
   ]
  },
  {
   "cell_type": "code",
   "execution_count": 14,
   "id": "champion-newark",
   "metadata": {},
   "outputs": [],
   "source": [
    "model.save_weights(\"CNN_cube_detector.h5\")"
   ]
  },
  {
   "cell_type": "code",
   "execution_count": 16,
   "id": "educated-concert",
   "metadata": {},
   "outputs": [
    {
     "data": {
      "image/png": "[encoded data removed]",
      "text/plain": [
       "<Figure size 1080x360 with 2 Axes>"
      ]
     },
     "metadata": {
      "needs_background": "light"
     },
     "output_type": "display_data"
    }
   ],
   "source": [
    "xlabel = 'Epoch'\n",
    "legends = ['Training', 'Validation']\n",
    "ylim_pad = [0.01, 0.1]\n",
    "plt.figure(figsize=(15, 5))\n",
    "y1 = trained_model.history['accuracy']\n",
    "y2 = trained_model.history['val_accuracy']\n",
    "\n",
    "min_y = min(min(y1), min(y2))-ylim_pad[0]\n",
    "max_y = max(max(y1), max(y2))+ylim_pad[0]\n",
    "\n",
    "\n",
    "plt.subplot(121)\n",
    "plt.plot(y1)\n",
    "plt.plot(y2)\n",
    "plt.title('Model Accuracy', fontsize=17)\n",
    "plt.xlabel(xlabel, fontsize=15)\n",
    "plt.ylabel('Accuracy', fontsize=15)\n",
    "plt.ylim(min_y, max_y)\n",
    "plt.legend(legends, loc='upper left')\n",
    "plt.grid()\n",
    "    \n",
    "y1 = trained_model.history['loss']\n",
    "y2 = trained_model.history['val_loss']\n",
    "min_y = min(min(y1), min(y2))-ylim_pad[1]\n",
    "max_y = max(max(y1), max(y2))+ylim_pad[1]\n",
    "    \n",
    "plt.subplot(122)\n",
    "plt.plot(y1)\n",
    "plt.plot(y2)\n",
    "\n",
    "plt.title('Model Loss', fontsize=17)\n",
    "plt.xlabel(xlabel, fontsize=15)\n",
    "plt.ylabel('Loss', fontsize=15)\n",
    "plt.ylim(min_y, max_y)\n",
    "plt.legend(legends, loc='upper left')\n",
    "plt.grid()                      \n",
    "plt.show()"
   ]
  },
  {
   "cell_type": "code",
   "execution_count": 17,
   "id": "prompt-sullivan",
   "metadata": {},
   "outputs": [
    {
     "name": "stdout",
     "output_type": "stream",
     "text": [
      "results\n",
      "9/9 - 0s - loss: -3.3730e-01 - accuracy: 0.3333\n",
      "Loss     : -0.34  \n",
      "Accuracy : 33.33%\n"
     ]
    }
   ],
   "source": [
    "print(\"results\")\n",
    "result  = model.evaluate(test_generator, steps=len(test_generator), verbose=2)\n",
    "\n",
    "print(\"%s%.2f  \"% (\"Loss     : \", result[0]))\n",
    "print(\"%s%.2f%s\"% (\"Accuracy : \", result[1]*100, \"%\"))"
   ]
  },
  {
   "cell_type": "code",
   "execution_count": 18,
   "id": "bigger-tunisia",
   "metadata": {},
   "outputs": [
    {
     "data": {
      "text/plain": [
       "{'green_cubes': 0, 'red_cubes': 1, 'yellow_cubes': 2}"
      ]
     },
     "execution_count": 18,
     "metadata": {},
     "output_type": "execute_result"
    }
   ],
   "source": [
    "classes = test_generator.class_indices\n",
    "classes"
   ]
  },
  {
   "cell_type": "code",
   "execution_count": 19,
   "id": "rotary-taxation",
   "metadata": {},
   "outputs": [
    {
     "name": "stderr",
     "output_type": "stream",
     "text": [
      "/home/ronaldsonbellande/.local/lib/python3.8/site-packages/tensorflow/python/keras/engine/training.py:1905: UserWarning: `Model.predict_generator` is deprecated and will be removed in a future version. Please use `Model.predict`, which supports generators.\n",
      "  warnings.warn('`Model.predict_generator` is deprecated and '\n"
     ]
    },
    {
     "name": "stdout",
     "output_type": "stream",
     "text": [
      "9/9 - 0s\n"
     ]
    }
   ],
   "source": [
    "y_pred = model.predict_generator(test_generator, steps=len(test_generator), verbose=2)  \n",
    "y_pred = y_pred.argmax(axis=-1)\n",
    "y_true=test_generator.classes"
   ]
  },
  {
   "cell_type": "code",
   "execution_count": null,
   "id": "separate-scale",
   "metadata": {},
   "outputs": [],
   "source": [
    "image_file_name = \"/home/ronaldsonbellande/Desktop/mobile_robotics/personal_repository/color_cube_detector_using_machine_learning/\"\n",
    "\n",
    "file_path = 'CNN_cube_detector.h5'\n",
    "title = file_path.split(\"/\")\n",
    "model_title = \"/\".join([i for i in title[3:]])\n",
    "\n",
    "precision = precision_score(y_true, y_pred, average=\"weighted\") \n",
    "recall = recall_score(y_true, y_pred, average=\"weighted\") \n",
    "f1 = f1_score(y_true, y_pred, average=\"weighted\") \n",
    "\n",
    "print(\"-\"*90)\n",
    "print(\"Derived Report\")\n",
    "print(\"-\"*90)\n",
    "print(\"%s%.2f%s\"% (\"Precision     : \", precision*100, \"%\"))\n",
    "print(\"%s%.2f%s\"% (\"Recall        : \", recall*100,    \"%\"))\n",
    "print(\"%s%.2f%s\"% (\"F1-Score      : \", f1*100,        \"%\"))\n",
    "print(\"-\"*90)\n",
    "print(\"\\n\\n\")\n",
    "\n",
    "CM = confusion_matrix(y_true*10, y_pred*10)\n",
    "fig, ax = plot_confusion_matrix(conf_mat=CM , figsize=(10,8), hide_ticks=True, cmap=plt.cm.Blues)\n",
    "plt.xticks(range(len(classes)), classes, fontsize=10)\n",
    "plt.yticks(range(len(classes)), classes, fontsize=10)\n",
    "plt.title(\"Confusion Matrix for Model File (Test Dataset): \\n\"+model_title, fontsize=10)\n",
    "fig.savefig(image_file_name, dpi=100)\n",
    "plt.show()\n",
    "    \n",
    "\n",
    "cls_report_print = classification_report(y_true, y_pred, target_names=classes)\n",
    "\n",
    "cls_report = classification_report(y_true, y_pred, target_names=classes, output_dict=True)\n",
    "\n",
    "print(\"\\n\\n\")\n",
    "print(\"-\"*90)\n",
    "print(\"Report for Model File: \", model_title)\n",
    "print(\"-\"*90)\n",
    "print(cls_report_print)\n",
    "print(\"-\"*90)"
   ]
  }
 ],
 "metadata": {
  "kernelspec": {
   "display_name": "Python 3",
   "language": "python",
   "name": "python3"
  },
  "language_info": {
   "codemirror_mode": {
    "name": "ipython",
    "version": 3
   },
   "file_extension": ".py",
   "mimetype": "text/x-python",
   "name": "python",
   "nbconvert_exporter": "python",
   "pygments_lexer": "ipython3",
   "version": "3.8.5"
  }
 },
 "nbformat": 4,
 "nbformat_minor": 5
}
