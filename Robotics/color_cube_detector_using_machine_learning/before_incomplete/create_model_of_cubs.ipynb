{
 "cells": [
  {
   "cell_type": "code",
   "execution_count": 1,
   "id": "assigned-pricing",
   "metadata": {},
   "outputs": [],
   "source": [
    "import numpy as np\n",
    "import matplotlib.pyplot as plt\n",
    "import matplotlib\n",
    "import cairo"
   ]
  },
  {
   "cell_type": "code",
   "execution_count": 1,
   "id": "aware-communication",
   "metadata": {},
   "outputs": [],
   "source": [
    "import matplotlib.pyplot as plt\n",
    "import matplotlib.image as mpimg\n",
    "from keras.preprocessing.image import ImageDataGenerator\n",
    "from keras.models import Sequential, Model\n",
    "from keras.optimizers import RMSprop\n",
    "from keras.applications.vgg16 import VGG16, preprocess_input\n",
    "from keras.layers import Activation, Dropout, Flatten, Dense, GlobalMaxPooling2D, Conv2D, MaxPooling2D\n",
    "from keras.callbacks import CSVLogger\n",
    "from livelossplot.keras import PlotLossesCallback\n",
    "import efficientnet.keras as efn\n",
    "import keras\n",
    "import matplotlib.pyplot as plt\n",
    "import sklearn.metrics as metrics\n",
    "import pickle\n",
    "from keras.layers import Dense, GlobalAveragePooling2D\n",
    "import sys\n",
    "import numpy as np\n",
    "import glob as glob\n",
    "from keras import optimizers\n",
    "import os\n",
    "from mlxtend.plotting import plot_confusion_matrix\n",
    "import random\n",
    "from PIL import Image\n",
    "from contextlib import redirect_stdout\n",
    "from sklearn.metrics import precision_score, recall_score, f1_score, roc_auc_score, confusion_matrix, classification_report"
   ]
  },
  {
   "cell_type": "code",
   "execution_count": 2,
   "id": "friendly-crawford",
   "metadata": {},
   "outputs": [],
   "source": [
    "image_width, image_height = 200, 200\n",
    "epochs = 40\n",
    "sample_per_epoch = 10000\n",
    "number_of_validation_sample = 2000\n",
    "batch_size = 8\n",
    "test_size = 30\n",
    "input_shape = (image_width, image_height, 3)\n",
    "file_path_train = r\"/home/ronaldsonbellande/Desktop/mobile_robotics/personal_repository/color_cube_detector_using_machine_learning/training_image_cubes\"\n",
    "file_path_validation = r\"/home/ronaldsonbellande/Desktop/mobile_robotics/personal_repository/color_cube_detector_using_machine_learning/validation\"\n",
    "file_path_test = r\"/home/ronaldsonbellande/Desktop/mobile_robotics/personal_repository/color_cube_detector_using_machine_learning/testing\""
   ]
  },
  {
   "cell_type": "code",
   "execution_count": 3,
   "id": "constant-process",
   "metadata": {},
   "outputs": [],
   "source": [
    "number_training_simple = 0\n",
    "for read, directory, files in os.walk(file_path_train):\n",
    "    for dir in directory:\n",
    "        number_training_simple += len(glob.glob(os.path.join(read, dir + \"/*\")))\n",
    "        \n",
    "number_validation_simple = 0\n",
    "for read, directory, files in os.walk(file_path_validation):\n",
    "    for dir in directory:\n",
    "        number_validation_simple += len(glob.glob(os.path.join(read, dir + \"/*\")))\n",
    "        \n",
    "number_testing_simple = 0\n",
    "for read, directory, files in os.walk(file_path_test):\n",
    "    for dir in directory:\n",
    "        number_testing_simple += len(glob.glob(os.path.join(read, dir + \"/*\")))"
   ]
  },
  {
   "cell_type": "code",
   "execution_count": 4,
   "id": "outside-mounting",
   "metadata": {},
   "outputs": [
    {
     "name": "stdout",
     "output_type": "stream",
     "text": [
      "9\n",
      "9\n",
      "39\n"
     ]
    }
   ],
   "source": [
    "print(number_testing_simple)\n",
    "print(number_validation_simple)\n",
    "print(number_training_simple)"
   ]
  },
  {
   "cell_type": "code",
   "execution_count": 5,
   "id": "arbitrary-capability",
   "metadata": {},
   "outputs": [],
   "source": [
    "model = Sequential()\n",
    "\n",
    "model.add(Conv2D(32, 3, 3, padding='same', input_shape=input_shape, activation='relu'))\n",
    "model.add(Conv2D(32, 3, 3, padding='same', activation='relu'))\n",
    "model.add(MaxPooling2D(pool_size=(2, 2)))\n",
    "\n",
    "model.add(Conv2D(64, 3, 3, padding='same', activation='relu'))\n",
    "model.add(MaxPooling2D(pool_size=(2, 2)))\n",
    "\n",
    "model.add(Conv2D(128, 3, 3, padding='same', activation='relu'))\n",
    "model.add(MaxPooling2D(pool_size=(2, 2), padding='same'))\n",
    "\n",
    "model.add(Flatten())\n",
    "model.add(Dense(128, activation = 'relu'))\n",
    "model.add(Dense(1, activation = 'sigmoid'))\n",
    "\n",
    "\n",
    "model.compile(loss='binary_crossentropy',\n",
    "            optimizer = 'adam',\n",
    "            metrics=['accuracy'])"
   ]
  },
  {
   "cell_type": "code",
   "execution_count": 6,
   "id": "realistic-parade",
   "metadata": {},
   "outputs": [
    {
     "name": "stdout",
     "output_type": "stream",
     "text": [
      "Model: \"sequential\"\n",
      "_________________________________________________________________\n",
      "Layer (type)                 Output Shape              Param #   \n",
      "=================================================================\n",
      "conv2d (Conv2D)              (None, 67, 67, 32)        896       \n",
      "_________________________________________________________________\n",
      "conv2d_1 (Conv2D)            (None, 23, 23, 32)        9248      \n",
      "_________________________________________________________________\n",
      "max_pooling2d (MaxPooling2D) (None, 11, 11, 32)        0         \n",
      "_________________________________________________________________\n",
      "conv2d_2 (Conv2D)            (None, 4, 4, 64)          18496     \n",
      "_________________________________________________________________\n",
      "max_pooling2d_1 (MaxPooling2 (None, 2, 2, 64)          0         \n",
      "_________________________________________________________________\n",
      "conv2d_3 (Conv2D)            (None, 1, 1, 128)         73856     \n",
      "_________________________________________________________________\n",
      "max_pooling2d_2 (MaxPooling2 (None, 1, 1, 128)         0         \n",
      "_________________________________________________________________\n",
      "flatten (Flatten)            (None, 128)               0         \n",
      "_________________________________________________________________\n",
      "dense (Dense)                (None, 128)               16512     \n",
      "_________________________________________________________________\n",
      "dense_1 (Dense)              (None, 1)                 129       \n",
      "=================================================================\n",
      "Total params: 119,137\n",
      "Trainable params: 119,137\n",
      "Non-trainable params: 0\n",
      "_________________________________________________________________\n"
     ]
    }
   ],
   "source": [
    "model_summary = model.summary()\n",
    "with open('model_summary.txt', 'w') as f:\n",
    "    with redirect_stdout(f):\n",
    "        model.summary()"
   ]
  },
  {
   "cell_type": "code",
   "execution_count": 7,
   "id": "behavioral-ordinary",
   "metadata": {},
   "outputs": [],
   "source": [
    "training_data_image_classification = ImageDataGenerator(rescale = 1./255,\n",
    "                                                        rotation_range = 20,\n",
    "                                                        width_shift_range = 0.2,\n",
    "                                                        height_shift_range = 0.2,\n",
    "                                                        shear_range = 0.2,\n",
    "                                                        zoom_range = 0.2,\n",
    "                                                        fill_mode = 'nearest',\n",
    "                                                        horizontal_flip = True)\n",
    "\n",
    "validation_data_image_classification = ImageDataGenerator(rescale = 1./255,\n",
    "                                                        rotation_range = 20,\n",
    "                                                        width_shift_range = 0.2,\n",
    "                                                        height_shift_range = 0.2,\n",
    "                                                        shear_range = 0.2,\n",
    "                                                        zoom_range = 0.2,\n",
    "                                                        fill_mode = 'nearest',\n",
    "                                                        horizontal_flip = True)\n",
    "\n",
    "test_data_image_classification = ImageDataGenerator(rescale = 1./255,\n",
    "                                                        rotation_range = 20,\n",
    "                                                        width_shift_range = 0.2,\n",
    "                                                        height_shift_range = 0.2,\n",
    "                                                        shear_range = 0.2,\n",
    "                                                        zoom_range = 0.2,\n",
    "                                                        fill_mode = 'nearest',\n",
    "                                                        horizontal_flip = True)"
   ]
  },
  {
   "cell_type": "code",
   "execution_count": 8,
   "id": "defensive-tooth",
   "metadata": {},
   "outputs": [
    {
     "name": "stdout",
     "output_type": "stream",
     "text": [
      "Found 39 images belonging to 3 classes.\n"
     ]
    }
   ],
   "source": [
    "training_generator = training_data_image_classification.flow_from_directory(file_path_train,\n",
    "    target_size=(image_width, image_height),\n",
    "    batch_size=batch_size, class_mode=\"binary\")"
   ]
  },
  {
   "cell_type": "code",
   "execution_count": 9,
   "id": "eleven-knitting",
   "metadata": {},
   "outputs": [
    {
     "name": "stdout",
     "output_type": "stream",
     "text": [
      "Found 9 images belonging to 3 classes.\n"
     ]
    }
   ],
   "source": [
    "validation_generator = validation_data_image_classification.flow_from_directory(file_path_validation,\n",
    "    target_size=(image_width, image_height),\n",
    "    batch_size=batch_size, class_mode=\"binary\")"
   ]
  },
  {
   "cell_type": "code",
   "execution_count": 10,
   "id": "cordless-graphic",
   "metadata": {},
   "outputs": [
    {
     "name": "stdout",
     "output_type": "stream",
     "text": [
      "Found 9 images belonging to 3 classes.\n"
     ]
    }
   ],
   "source": [
    "test_generator = test_data_image_classification.flow_from_directory(file_path_test,\n",
    "    target_size=(image_width, image_height),\n",
    "    batch_size=batch_size, class_mode=\"binary\")"
   ]
  },
  {
   "cell_type": "code",
   "execution_count": 11,
   "id": "adjusted-structure",
   "metadata": {},
   "outputs": [
    {
     "name": "stdout",
     "output_type": "stream",
     "text": [
      "data batch shape: (8, 200, 200, 3)\n",
      "labels batch shape: (8,)\n"
     ]
    }
   ],
   "source": [
    "for data_batch, labels_batch in training_generator:\n",
    "    print('data batch shape:', data_batch.shape)\n",
    "    print('labels batch shape:', labels_batch.shape)\n",
    "    break"
   ]
  },
  {
   "cell_type": "code",
   "execution_count": 12,
   "id": "split-shell",
   "metadata": {},
   "outputs": [
    {
     "name": "stdout",
     "output_type": "stream",
     "text": [
      "{'green_cubes': 0, 'red_cubes': 1, 'yellow_cubes': 2}\n"
     ]
    }
   ],
   "source": [
    "class_names = training_generator.class_indices\n",
    "print(class_names)"
   ]
  },
  {
   "cell_type": "code",
   "execution_count": 13,
   "id": "basic-bunch",
   "metadata": {},
   "outputs": [],
   "source": [
    " checkpoint = keras.callbacks.EarlyStopping(monitor='val_acc', patience=4, verbose=1)"
   ]
  },
  {
   "cell_type": "code",
   "execution_count": 14,
   "id": "random-current",
   "metadata": {},
   "outputs": [
    {
     "name": "stdout",
     "output_type": "stream",
     "text": [
      "Epoch 1/40\n",
      "4/4 [==============================] - 9s 2s/step - loss: 0.6193 - accuracy: 0.3500 - val_loss: 0.3939 - val_accuracy: 0.3750\n",
      "WARNING:tensorflow:Early stopping conditioned on metric `val_acc` which is not available. Available metrics are: loss,accuracy,val_loss,val_accuracy\n",
      "Epoch 2/40\n",
      "4/4 [==============================] - 3s 689ms/step - loss: 0.0399 - accuracy: 0.3020 - val_loss: -0.4950 - val_accuracy: 0.2500\n",
      "WARNING:tensorflow:Early stopping conditioned on metric `val_acc` which is not available. Available metrics are: loss,accuracy,val_loss,val_accuracy\n",
      "Epoch 3/40\n",
      "4/4 [==============================] - 2s 636ms/step - loss: -0.4883 - accuracy: 0.3332 - val_loss: -0.1760 - val_accuracy: 0.3750\n",
      "WARNING:tensorflow:Early stopping conditioned on metric `val_acc` which is not available. Available metrics are: loss,accuracy,val_loss,val_accuracy\n",
      "Epoch 4/40\n",
      "4/4 [==============================] - 2s 668ms/step - loss: -0.4447 - accuracy: 0.3792 - val_loss: -3.4988 - val_accuracy: 0.3750\n",
      "WARNING:tensorflow:Early stopping conditioned on metric `val_acc` which is not available. Available metrics are: loss,accuracy,val_loss,val_accuracy\n",
      "Epoch 5/40\n",
      "4/4 [==============================] - 3s 725ms/step - loss: -1.0655 - accuracy: 0.2701 - val_loss: -5.2738 - val_accuracy: 0.3750\n",
      "WARNING:tensorflow:Early stopping conditioned on metric `val_acc` which is not available. Available metrics are: loss,accuracy,val_loss,val_accuracy\n",
      "Epoch 6/40\n",
      "4/4 [==============================] - 3s 645ms/step - loss: -4.8010 - accuracy: 0.4215 - val_loss: -7.7104 - val_accuracy: 0.2500\n",
      "WARNING:tensorflow:Early stopping conditioned on metric `val_acc` which is not available. Available metrics are: loss,accuracy,val_loss,val_accuracy\n",
      "Epoch 7/40\n",
      "4/4 [==============================] - 2s 626ms/step - loss: -4.0975 - accuracy: 0.3128 - val_loss: -13.2001 - val_accuracy: 0.2500\n",
      "WARNING:tensorflow:Early stopping conditioned on metric `val_acc` which is not available. Available metrics are: loss,accuracy,val_loss,val_accuracy\n",
      "Epoch 8/40\n",
      "4/4 [==============================] - 2s 639ms/step - loss: -19.0271 - accuracy: 0.2083 - val_loss: -20.8403 - val_accuracy: 0.2500\n",
      "WARNING:tensorflow:Early stopping conditioned on metric `val_acc` which is not available. Available metrics are: loss,accuracy,val_loss,val_accuracy\n",
      "Epoch 9/40\n",
      "4/4 [==============================] - 3s 674ms/step - loss: -16.3975 - accuracy: 0.3828 - val_loss: -31.9111 - val_accuracy: 0.2500\n",
      "WARNING:tensorflow:Early stopping conditioned on metric `val_acc` which is not available. Available metrics are: loss,accuracy,val_loss,val_accuracy\n",
      "Epoch 10/40\n",
      "4/4 [==============================] - 4s 1s/step - loss: -64.0702 - accuracy: 0.3833 - val_loss: -26.3692 - val_accuracy: 0.3750\n",
      "WARNING:tensorflow:Early stopping conditioned on metric `val_acc` which is not available. Available metrics are: loss,accuracy,val_loss,val_accuracy\n",
      "Epoch 11/40\n",
      "4/4 [==============================] - 5s 1s/step - loss: -111.6300 - accuracy: 0.2213 - val_loss: -187.9591 - val_accuracy: 0.2500\n",
      "WARNING:tensorflow:Early stopping conditioned on metric `val_acc` which is not available. Available metrics are: loss,accuracy,val_loss,val_accuracy\n",
      "Epoch 12/40\n",
      "4/4 [==============================] - 4s 1s/step - loss: -301.6509 - accuracy: 0.2832 - val_loss: -194.0255 - val_accuracy: 0.3750\n",
      "WARNING:tensorflow:Early stopping conditioned on metric `val_acc` which is not available. Available metrics are: loss,accuracy,val_loss,val_accuracy\n",
      "Epoch 13/40\n",
      "4/4 [==============================] - 4s 1s/step - loss: -291.6218 - accuracy: 0.4111 - val_loss: -386.2134 - val_accuracy: 0.2500\n",
      "WARNING:tensorflow:Early stopping conditioned on metric `val_acc` which is not available. Available metrics are: loss,accuracy,val_loss,val_accuracy\n",
      "Epoch 14/40\n",
      "4/4 [==============================] - 4s 1s/step - loss: -709.9464 - accuracy: 0.3556 - val_loss: -354.2422 - val_accuracy: 0.3750\n",
      "WARNING:tensorflow:Early stopping conditioned on metric `val_acc` which is not available. Available metrics are: loss,accuracy,val_loss,val_accuracy\n",
      "Epoch 15/40\n",
      "4/4 [==============================] - 4s 1s/step - loss: -951.6890 - accuracy: 0.3236 - val_loss: -1791.0916 - val_accuracy: 0.3750\n",
      "WARNING:tensorflow:Early stopping conditioned on metric `val_acc` which is not available. Available metrics are: loss,accuracy,val_loss,val_accuracy\n",
      "Epoch 16/40\n",
      "4/4 [==============================] - 4s 1s/step - loss: 696.8584 - accuracy: 0.3502 - val_loss: -2147.8491 - val_accuracy: 0.3750\n",
      "WARNING:tensorflow:Early stopping conditioned on metric `val_acc` which is not available. Available metrics are: loss,accuracy,val_loss,val_accuracy\n",
      "Epoch 17/40\n",
      "4/4 [==============================] - 5s 1s/step - loss: -1646.1947 - accuracy: 0.3008 - val_loss: -899.3335 - val_accuracy: 0.3750\n",
      "WARNING:tensorflow:Early stopping conditioned on metric `val_acc` which is not available. Available metrics are: loss,accuracy,val_loss,val_accuracy\n",
      "Epoch 18/40\n",
      "4/4 [==============================] - 5s 1s/step - loss: -1908.3353 - accuracy: 0.3726 - val_loss: -1239.9019 - val_accuracy: 0.3750\n",
      "WARNING:tensorflow:Early stopping conditioned on metric `val_acc` which is not available. Available metrics are: loss,accuracy,val_loss,val_accuracy\n",
      "Epoch 19/40\n",
      "4/4 [==============================] - 6s 2s/step - loss: -3585.5865 - accuracy: 0.3552 - val_loss: -6262.9849 - val_accuracy: 0.3750\n",
      "WARNING:tensorflow:Early stopping conditioned on metric `val_acc` which is not available. Available metrics are: loss,accuracy,val_loss,val_accuracy\n",
      "Epoch 20/40\n",
      "4/4 [==============================] - 6s 2s/step - loss: -5167.7817 - accuracy: 0.3159 - val_loss: -1900.8701 - val_accuracy: 0.3750\n",
      "WARNING:tensorflow:Early stopping conditioned on metric `val_acc` which is not available. Available metrics are: loss,accuracy,val_loss,val_accuracy\n",
      "Epoch 21/40\n",
      "4/4 [==============================] - 7s 2s/step - loss: -5092.5070 - accuracy: 0.3838 - val_loss: -6547.6846 - val_accuracy: 0.2500\n",
      "WARNING:tensorflow:Early stopping conditioned on metric `val_acc` which is not available. Available metrics are: loss,accuracy,val_loss,val_accuracy\n",
      "Epoch 22/40\n",
      "4/4 [==============================] - 7s 2s/step - loss: -1961.0458 - accuracy: 0.2587 - val_loss: -2485.1667 - val_accuracy: 0.3750\n",
      "WARNING:tensorflow:Early stopping conditioned on metric `val_acc` which is not available. Available metrics are: loss,accuracy,val_loss,val_accuracy\n",
      "Epoch 23/40\n",
      "4/4 [==============================] - 7s 2s/step - loss: -6710.1479 - accuracy: 0.3091 - val_loss: -19805.8086 - val_accuracy: 0.3750\n",
      "WARNING:tensorflow:Early stopping conditioned on metric `val_acc` which is not available. Available metrics are: loss,accuracy,val_loss,val_accuracy\n",
      "Epoch 24/40\n",
      "4/4 [==============================] - 7s 2s/step - loss: -5662.5065 - accuracy: 0.3620 - val_loss: -25131.9805 - val_accuracy: 0.3750\n",
      "WARNING:tensorflow:Early stopping conditioned on metric `val_acc` which is not available. Available metrics are: loss,accuracy,val_loss,val_accuracy\n",
      "Epoch 25/40\n",
      "4/4 [==============================] - 7s 2s/step - loss: 1052.6766 - accuracy: 0.3378 - val_loss: -2384.4414 - val_accuracy: 0.3750\n",
      "WARNING:tensorflow:Early stopping conditioned on metric `val_acc` which is not available. Available metrics are: loss,accuracy,val_loss,val_accuracy\n",
      "Epoch 26/40\n",
      "4/4 [==============================] - 8s 2s/step - loss: -15808.7494 - accuracy: 0.2375 - val_loss: -48284.0078 - val_accuracy: 0.3750\n",
      "WARNING:tensorflow:Early stopping conditioned on metric `val_acc` which is not available. Available metrics are: loss,accuracy,val_loss,val_accuracy\n",
      "Epoch 27/40\n",
      "4/4 [==============================] - 8s 2s/step - loss: -48926.7352 - accuracy: 0.2875 - val_loss: -9230.1377 - val_accuracy: 0.3750\n",
      "WARNING:tensorflow:Early stopping conditioned on metric `val_acc` which is not available. Available metrics are: loss,accuracy,val_loss,val_accuracy\n",
      "Epoch 28/40\n",
      "4/4 [==============================] - 7s 2s/step - loss: -60140.1258 - accuracy: 0.2491 - val_loss: -56184.1797 - val_accuracy: 0.2500\n",
      "WARNING:tensorflow:Early stopping conditioned on metric `val_acc` which is not available. Available metrics are: loss,accuracy,val_loss,val_accuracy\n",
      "Epoch 29/40\n",
      "4/4 [==============================] - 2s 409ms/step - loss: -92334.1531 - accuracy: 0.2716 - val_loss: -116128.0156 - val_accuracy: 0.3750\n",
      "WARNING:tensorflow:Early stopping conditioned on metric `val_acc` which is not available. Available metrics are: loss,accuracy,val_loss,val_accuracy\n",
      "Epoch 30/40\n",
      "4/4 [==============================] - 2s 416ms/step - loss: -75970.1375 - accuracy: 0.4006 - val_loss: -5923.2031 - val_accuracy: 0.3750\n",
      "WARNING:tensorflow:Early stopping conditioned on metric `val_acc` which is not available. Available metrics are: loss,accuracy,val_loss,val_accuracy\n",
      "Epoch 31/40\n",
      "4/4 [==============================] - 1s 364ms/step - loss: -76673.0984 - accuracy: 0.2898 - val_loss: -42356.5859 - val_accuracy: 0.3750\n",
      "WARNING:tensorflow:Early stopping conditioned on metric `val_acc` which is not available. Available metrics are: loss,accuracy,val_loss,val_accuracy\n",
      "Epoch 32/40\n",
      "4/4 [==============================] - 1s 359ms/step - loss: -179667.3156 - accuracy: 0.3461 - val_loss: -229884.3125 - val_accuracy: 0.2500\n",
      "WARNING:tensorflow:Early stopping conditioned on metric `val_acc` which is not available. Available metrics are: loss,accuracy,val_loss,val_accuracy\n",
      "Epoch 33/40\n",
      "4/4 [==============================] - 1s 389ms/step - loss: -186975.4312 - accuracy: 0.3495 - val_loss: -312725.0000 - val_accuracy: 0.3750\n",
      "WARNING:tensorflow:Early stopping conditioned on metric `val_acc` which is not available. Available metrics are: loss,accuracy,val_loss,val_accuracy\n",
      "Epoch 34/40\n",
      "4/4 [==============================] - 2s 411ms/step - loss: -288061.1859 - accuracy: 0.4101 - val_loss: -75448.9531 - val_accuracy: 0.3750\n",
      "WARNING:tensorflow:Early stopping conditioned on metric `val_acc` which is not available. Available metrics are: loss,accuracy,val_loss,val_accuracy\n",
      "Epoch 35/40\n",
      "4/4 [==============================] - 2s 407ms/step - loss: -313228.1656 - accuracy: 0.2892 - val_loss: -170493.3281 - val_accuracy: 0.3750\n",
      "WARNING:tensorflow:Early stopping conditioned on metric `val_acc` which is not available. Available metrics are: loss,accuracy,val_loss,val_accuracy\n",
      "Epoch 36/40\n",
      "4/4 [==============================] - 2s 434ms/step - loss: -611945.4125 - accuracy: 0.3083 - val_loss: -152792.1875 - val_accuracy: 0.3750\n",
      "WARNING:tensorflow:Early stopping conditioned on metric `val_acc` which is not available. Available metrics are: loss,accuracy,val_loss,val_accuracy\n",
      "Epoch 37/40\n",
      "4/4 [==============================] - 1s 384ms/step - loss: -285472.8500 - accuracy: 0.2891 - val_loss: -739127.8750 - val_accuracy: 0.3750\n",
      "WARNING:tensorflow:Early stopping conditioned on metric `val_acc` which is not available. Available metrics are: loss,accuracy,val_loss,val_accuracy\n",
      "Epoch 38/40\n",
      "4/4 [==============================] - 2s 410ms/step - loss: -342366.9281 - accuracy: 0.2683 - val_loss: -1002555.7500 - val_accuracy: 0.3750\n",
      "WARNING:tensorflow:Early stopping conditioned on metric `val_acc` which is not available. Available metrics are: loss,accuracy,val_loss,val_accuracy\n",
      "Epoch 39/40\n",
      "4/4 [==============================] - 1s 356ms/step - loss: -1018681.9125 - accuracy: 0.2703 - val_loss: -1127110.7500 - val_accuracy: 0.2500\n",
      "WARNING:tensorflow:Early stopping conditioned on metric `val_acc` which is not available. Available metrics are: loss,accuracy,val_loss,val_accuracy\n",
      "Epoch 40/40\n",
      "4/4 [==============================] - 1s 214ms/step - loss: -549716.6125 - accuracy: 0.3328 - val_loss: -1592046.1250 - val_accuracy: 0.2500\n",
      "WARNING:tensorflow:Early stopping conditioned on metric `val_acc` which is not available. Available metrics are: loss,accuracy,val_loss,val_accuracy\n"
     ]
    }
   ],
   "source": [
    "trained_model = model.fit(\n",
    "    training_generator,\n",
    "    steps_per_epoch=len(training_generator.filenames)//training_generator.batch_size,\n",
    "    initial_epoch=0,\n",
    "    epochs=epochs,\n",
    "    validation_data=validation_generator,\n",
    "    validation_steps=len(validation_generator.filenames)//validation_generator.batch_size,\n",
    "    callbacks=[checkpoint],\n",
    "    shuffle = True, verbose=1)\n",
    "\n",
    "# trained_model = model.fit(training_generator,\n",
    "#                          steps_per_epoch = number_training_simple,\n",
    "#                          epochs = epochs,\n",
    "#                          validation_data = validation_generator,\n",
    "#                          validation_steps = len(validation_generator.filenames)//validation_generator.batch_size)"
   ]
  },
  {
   "cell_type": "code",
   "execution_count": 16,
   "id": "broadband-creator",
   "metadata": {},
   "outputs": [
    {
     "data": {
      "image/png": "[encoded data removed]",
      "text/plain": [
       "<Figure size 1080x360 with 2 Axes>"
      ]
     },
     "metadata": {
      "needs_background": "light"
     },
     "output_type": "display_data"
    }
   ],
   "source": [
    "xlabel = 'Epoch'\n",
    "legends = ['Training', 'Validation']\n",
    "ylim_pad = [0.01, 0.1]\n",
    "plt.figure(figsize=(15, 5))\n",
    "y1 = trained_model.history['accuracy']\n",
    "y2 = trained_model.history['val_accuracy']\n",
    "\n",
    "min_y = min(min(y1), min(y2))-ylim_pad[0]\n",
    "max_y = max(max(y1), max(y2))+ylim_pad[0]\n",
    "\n",
    "\n",
    "plt.subplot(121)\n",
    "plt.plot(y1)\n",
    "plt.plot(y2)\n",
    "plt.title('Model Accuracy', fontsize=17)\n",
    "plt.xlabel(xlabel, fontsize=15)\n",
    "plt.ylabel('Accuracy', fontsize=15)\n",
    "plt.ylim(min_y, max_y)\n",
    "plt.legend(legends, loc='upper left')\n",
    "plt.grid()\n",
    "    \n",
    "y1 = trained_model.history['loss']\n",
    "y2 = trained_model.history['val_loss']\n",
    "min_y = min(min(y1), min(y2))-ylim_pad[1]\n",
    "max_y = max(max(y1), max(y2))+ylim_pad[1]\n",
    "    \n",
    "plt.subplot(122)\n",
    "plt.plot(y1)\n",
    "plt.plot(y2)\n",
    "\n",
    "plt.title('Model Loss', fontsize=17)\n",
    "plt.xlabel(xlabel, fontsize=15)\n",
    "plt.ylabel('Loss', fontsize=15)\n",
    "plt.ylim(min_y, max_y)\n",
    "plt.legend(legends, loc='upper left')\n",
    "plt.grid()                      \n",
    "plt.show()"
   ]
  },
  {
   "cell_type": "code",
   "execution_count": 17,
   "id": "negative-vacuum",
   "metadata": {},
   "outputs": [
    {
     "name": "stdout",
     "output_type": "stream",
     "text": [
      "results\n",
      "2/2 - 0s - loss: -1.2484e+06 - accuracy: 0.3333\n",
      "Loss     : -1248383.38  \n",
      "Accuracy : 33.33%\n"
     ]
    }
   ],
   "source": [
    "print(\"results\")\n",
    "result  = model.evaluate(test_generator, steps=len(test_generator), verbose=2)\n",
    "\n",
    "print(\"%s%.2f  \"% (\"Loss     : \", result[0]))\n",
    "print(\"%s%.2f%s\"% (\"Accuracy : \", result[1]*100, \"%\"))"
   ]
  },
  {
   "cell_type": "code",
   "execution_count": 18,
   "id": "quality-hayes",
   "metadata": {},
   "outputs": [
    {
     "data": {
      "text/plain": [
       "{'green_cubes': 0, 'red_cubes': 1, 'yellow_cubes': 2}"
      ]
     },
     "execution_count": 18,
     "metadata": {},
     "output_type": "execute_result"
    }
   ],
   "source": [
    "classes = test_generator.class_indices\n",
    "classes"
   ]
  },
  {
   "cell_type": "code",
   "execution_count": 19,
   "id": "fossil-adventure",
   "metadata": {},
   "outputs": [
    {
     "name": "stdout",
     "output_type": "stream",
     "text": [
      "2/2 [==============================] - 0s 20ms/step\n",
      "[0 0 0 0 0 0 0 0 0]\n"
     ]
    }
   ],
   "source": [
    "y_pred = model.predict(test_generator, steps=len(test_generator), verbose=1)\n",
    "y_pred = y_pred.argmax(axis=-1)\n",
    "# y_pred = y_pred.reshape(1,9)\n",
    "# y_pred = y_pred[0]\n",
    "y_true=test_generator.classes\n",
    "print(y_pred)"
   ]
  },
  {
   "cell_type": "code",
   "execution_count": 20,
   "id": "toxic-metallic",
   "metadata": {},
   "outputs": [
    {
     "name": "stderr",
     "output_type": "stream",
     "text": [
      "/home/ronaldsonbellande/.local/lib/python3.8/site-packages/sklearn/metrics/_classification.py:1245: UndefinedMetricWarning: Precision is ill-defined and being set to 0.0 in labels with no predicted samples. Use `zero_division` parameter to control this behavior.\n",
      "  _warn_prf(average, modifier, msg_start, len(result))\n"
     ]
    },
    {
     "name": "stdout",
     "output_type": "stream",
     "text": [
      "------------------------------------------------------------------------------------------\n",
      "Derived Report\n",
      "------------------------------------------------------------------------------------------\n",
      "Precision     : 11.11%\n",
      "Recall        : 33.33%\n",
      "F1-Score      : 16.67%\n",
      "------------------------------------------------------------------------------------------\n",
      "\n",
      "\n",
      "\n",
      "---------fffff {'green_cubes': 0, 'red_cubes': 1, 'yellow_cubes': 2}\n"
     ]
    },
    {
     "data": {
      "image/png": "[encoded data removed]",
      "text/plain": [
       "<Figure size 720x576 with 1 Axes>"
      ]
     },
     "metadata": {
      "needs_background": "light"
     },
     "output_type": "display_data"
    },
    {
     "name": "stdout",
     "output_type": "stream",
     "text": [
      "\n",
      "\n",
      "\n",
      "------------------------------------------------------------------------------------------\n",
      "Report for Model File:  \n",
      "------------------------------------------------------------------------------------------\n",
      "              precision    recall  f1-score   support\n",
      "\n",
      " green_cubes       0.33      1.00      0.50         3\n",
      "   red_cubes       0.00      0.00      0.00         3\n",
      "yellow_cubes       0.00      0.00      0.00         3\n",
      "\n",
      "    accuracy                           0.33         9\n",
      "   macro avg       0.11      0.33      0.17         9\n",
      "weighted avg       0.11      0.33      0.17         9\n",
      "\n",
      "------------------------------------------------------------------------------------------\n"
     ]
    },
    {
     "name": "stderr",
     "output_type": "stream",
     "text": [
      "/home/ronaldsonbellande/.local/lib/python3.8/site-packages/sklearn/metrics/_classification.py:1245: UndefinedMetricWarning: Precision and F-score are ill-defined and being set to 0.0 in labels with no predicted samples. Use `zero_division` parameter to control this behavior.\n",
      "  _warn_prf(average, modifier, msg_start, len(result))\n",
      "/home/ronaldsonbellande/.local/lib/python3.8/site-packages/sklearn/metrics/_classification.py:1245: UndefinedMetricWarning: Precision and F-score are ill-defined and being set to 0.0 in labels with no predicted samples. Use `zero_division` parameter to control this behavior.\n",
      "  _warn_prf(average, modifier, msg_start, len(result))\n",
      "/home/ronaldsonbellande/.local/lib/python3.8/site-packages/sklearn/metrics/_classification.py:1245: UndefinedMetricWarning: Precision and F-score are ill-defined and being set to 0.0 in labels with no predicted samples. Use `zero_division` parameter to control this behavior.\n",
      "  _warn_prf(average, modifier, msg_start, len(result))\n",
      "/home/ronaldsonbellande/.local/lib/python3.8/site-packages/sklearn/metrics/_classification.py:1245: UndefinedMetricWarning: Precision and F-score are ill-defined and being set to 0.0 in labels with no predicted samples. Use `zero_division` parameter to control this behavior.\n",
      "  _warn_prf(average, modifier, msg_start, len(result))\n",
      "/home/ronaldsonbellande/.local/lib/python3.8/site-packages/sklearn/metrics/_classification.py:1245: UndefinedMetricWarning: Precision and F-score are ill-defined and being set to 0.0 in labels with no predicted samples. Use `zero_division` parameter to control this behavior.\n",
      "  _warn_prf(average, modifier, msg_start, len(result))\n",
      "/home/ronaldsonbellande/.local/lib/python3.8/site-packages/sklearn/metrics/_classification.py:1245: UndefinedMetricWarning: Precision and F-score are ill-defined and being set to 0.0 in labels with no predicted samples. Use `zero_division` parameter to control this behavior.\n",
      "  _warn_prf(average, modifier, msg_start, len(result))\n"
     ]
    }
   ],
   "source": [
    "image_file_name = \"/home/ronaldsonbellande/Desktop/mobile_robotics/personal_repository/color_cube_detector_using_machine_learning/\"\n",
    "\n",
    "file_path = 'CNN_cube_detector.h5'\n",
    "title = file_path.split(\"/\")\n",
    "model_title = \"/\".join([i for i in title[3:]])\n",
    "\n",
    "precision = precision_score(y_true, y_pred, average=\"weighted\") \n",
    "recall = recall_score(y_true, y_pred, average=\"weighted\") \n",
    "f1 = f1_score(y_true, y_pred, average=\"weighted\") \n",
    "\n",
    "print(\"-\"*90)\n",
    "print(\"Derived Report\")\n",
    "print(\"-\"*90)\n",
    "print(\"%s%.2f%s\"% (\"Precision     : \", precision*100, \"%\"))\n",
    "print(\"%s%.2f%s\"% (\"Recall        : \", recall*100,    \"%\"))\n",
    "print(\"%s%.2f%s\"% (\"F1-Score      : \", f1*100,        \"%\"))\n",
    "print(\"-\"*90)\n",
    "print(\"\\n\\n\")\n",
    "\n",
    "print(\"---------fffff\", classes)\n",
    "CM = confusion_matrix(y_true*10, y_pred*10)\n",
    "fig, ax = plot_confusion_matrix(conf_mat=CM , figsize=(10,8), hide_ticks=True, cmap=plt.cm.Blues)\n",
    "plt.xticks(range(len(classes)), classes, fontsize=10)\n",
    "plt.yticks(range(len(classes)), classes, fontsize=10)\n",
    "plt.title(\"Confusion Matrix for Model File (Test Dataset): \\n\"+model_title, fontsize=10)\n",
    "fig.savefig(image_file_name, dpi=100)\n",
    "plt.show()\n",
    "    \n",
    "\n",
    "cls_report_print = classification_report(y_true, y_pred, target_names=classes)\n",
    "\n",
    "cls_report = classification_report(y_true, y_pred, target_names=classes, output_dict=True)\n",
    "\n",
    "print(\"\\n\\n\")\n",
    "print(\"-\"*90)\n",
    "print(\"Report for Model File: \", model_title)\n",
    "print(\"-\"*90)\n",
    "print(cls_report_print)\n",
    "print(\"-\"*90)"
   ]
  },
  {
   "cell_type": "code",
   "execution_count": null,
   "id": "monetary-sterling",
   "metadata": {},
   "outputs": [],
   "source": []
  },
  {
   "cell_type": "code",
   "execution_count": null,
   "id": "otherwise-nylon",
   "metadata": {},
   "outputs": [],
   "source": []
  },
  {
   "cell_type": "code",
   "execution_count": null,
   "id": "annual-google",
   "metadata": {},
   "outputs": [],
   "source": []
  }
 ],
 "metadata": {
  "kernelspec": {
   "display_name": "Python 3",
   "language": "python",
   "name": "python3"
  },
  "language_info": {
   "codemirror_mode": {
    "name": "ipython",
    "version": 3
   },
   "file_extension": ".py",
   "mimetype": "text/x-python",
   "name": "python",
   "nbconvert_exporter": "python",
   "pygments_lexer": "ipython3",
   "version": "3.8.5"
  }
 },
 "nbformat": 4,
 "nbformat_minor": 5
}
