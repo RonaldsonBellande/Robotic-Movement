{
 "cells": [
  {
   "cell_type": "code",
   "execution_count": 1,
   "id": "forward-walker",
   "metadata": {},
   "outputs": [
    {
     "name": "stdout",
     "output_type": "stream",
     "text": [
      "Downloading data from https://storage.googleapis.com/tensorflow/tf-keras-datasets/mnist.npz\n",
      "11493376/11490434 [==============================] - 1s 0us/step\n",
      "Epoch 1/10\n",
      "1875/1875 [==============================] - 19s 9ms/step - loss: 20.1758\n",
      "Epoch 2/10\n",
      "1875/1875 [==============================] - 20s 10ms/step - loss: 8.4213\n",
      "Epoch 3/10\n",
      "1875/1875 [==============================] - 20s 10ms/step - loss: 3.7176\n",
      "Epoch 4/10\n",
      "1875/1875 [==============================] - 20s 11ms/step - loss: 2.7454\n",
      "Epoch 5/10\n",
      "1875/1875 [==============================] - 49s 26ms/step - loss: 2.1074\n",
      "Epoch 6/10\n",
      "1875/1875 [==============================] - 33s 17ms/step - loss: 1.6817\n",
      "Epoch 7/10\n",
      "1875/1875 [==============================] - 16s 8ms/step - loss: 1.4010\n",
      "Epoch 8/10\n",
      "1875/1875 [==============================] - 19s 10ms/step - loss: 1.2414\n",
      "Epoch 9/10\n",
      "1875/1875 [==============================] - 20s 11ms/step - loss: 1.1373\n",
      "Epoch 10/10\n",
      "1875/1875 [==============================] - 20s 11ms/step - loss: 1.1176\n"
     ]
    },
    {
     "data": {
      "text/plain": [
       "<tf.Tensor: shape=(10, 10), dtype=int32, numpy=\n",
       "array([[663, 266,  37,  11,   3,   0,   0,   0,   0,   0],\n",
       "       [300, 772,  49,  12,   2,   0,   0,   0,   0,   0],\n",
       "       [ 55, 605, 264,  78,  16,  10,   3,   1,   0,   0],\n",
       "       [  2, 143, 496, 244,  92,  21,  12,   0,   0,   0],\n",
       "       [  3,  22, 137, 357, 258, 144,  48,  12,   1,   0],\n",
       "       [  0,  11,  35, 126, 297, 298, 108,  16,   1,   0],\n",
       "       [  0,  14,  16,  55, 138, 357, 325,  53,   0,   0],\n",
       "       [  0,   5,  10,  23,  31,  92, 264, 562,  41,   0],\n",
       "       [  0,   4,   2,  15,  26,  47, 138, 475, 267,   0],\n",
       "       [  0,   2,   4,   8,  13,  17,  35, 247, 683,   0]], dtype=int32)>"
      ]
     },
     "execution_count": 1,
     "metadata": {},
     "output_type": "execute_result"
    }
   ],
   "source": [
    "import tensorflow as tf\n",
    "import numpy as np\n",
    "(x_train, y_train), (x_test, y_test) = tf.keras.datasets.mnist.load_data()\n",
    "\n",
    "x_train=x_train[...,np.newaxis]/255 #add an extra dimension as the channels dimension and normalize\n",
    "x_test=x_test[...,np.newaxis]/255\n",
    "y_train=y_train.astype(dtype=np.float32)#convert to float\n",
    "y_test=y_test.astype(dtype=np.float32)\n",
    "\n",
    "\n",
    "model=tf.keras.models.Sequential([tf.keras.layers.Conv2D(16,3,activation='relu'),\n",
    "                                  tf.keras.layers.Flatten(),\n",
    "                                  tf.keras.layers.Dense(1,activation='sigmoid'),\n",
    "                                  tf.keras.layers.Dense(1)])\n",
    "\n",
    "model.compile(optimizer='adam',loss='mse')\n",
    "\n",
    "model.fit(x_train,y_train,epochs=10)\n",
    "y_predict=model.predict(x_test)\n",
    "\n",
    "tf.math.confusion_matrix(y_test,y_predict)"
   ]
  },
  {
   "cell_type": "code",
   "execution_count": null,
   "id": "colored-massachusetts",
   "metadata": {},
   "outputs": [],
   "source": []
  }
 ],
 "metadata": {
  "kernelspec": {
   "display_name": "Python 3",
   "language": "python",
   "name": "python3"
  },
  "language_info": {
   "codemirror_mode": {
    "name": "ipython",
    "version": 3
   },
   "file_extension": ".py",
   "mimetype": "text/x-python",
   "name": "python",
   "nbconvert_exporter": "python",
   "pygments_lexer": "ipython3",
   "version": "3.8.5"
  }
 },
 "nbformat": 4,
 "nbformat_minor": 5
}
