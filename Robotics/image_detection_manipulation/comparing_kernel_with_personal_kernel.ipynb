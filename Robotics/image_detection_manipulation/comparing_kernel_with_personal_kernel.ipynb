{
 "cells": [
  {
   "cell_type": "code",
   "execution_count": 1,
   "id": "known-director",
   "metadata": {},
   "outputs": [],
   "source": [
    "import numpy as np\n",
    "import cv2\n",
    "from glob import glob\n",
    "import os\n",
    "from os.path import basename\n",
    "import matplotlib.pyplot as plt"
   ]
  },
  {
   "cell_type": "code",
   "execution_count": 2,
   "id": "taken-customs",
   "metadata": {},
   "outputs": [
    {
     "data": {
      "text/plain": [
       "True"
      ]
     },
     "execution_count": 2,
     "metadata": {},
     "output_type": "execute_result"
    }
   ],
   "source": [
    "image = cv2.imread('Lenna.png', -1)\n",
    "gray_scale = cv2.cvtColor(image, cv2.COLOR_BGR2GRAY)\n",
    "cv2.imwrite('Lanna_gray_scale.png', gray_scale)"
   ]
  },
  {
   "cell_type": "code",
   "execution_count": 3,
   "id": "amino-hawaii",
   "metadata": {},
   "outputs": [
    {
     "data": {
      "text/plain": [
       "True"
      ]
     },
     "execution_count": 3,
     "metadata": {},
     "output_type": "execute_result"
    }
   ],
   "source": [
    "kernel1 = np.array([[-1, -5, 1],\n",
    "                       [5, 0.5, 5],\n",
    "                       [1, -5, -1]]) * 2\n",
    "\n",
    "# kernel for edge detection the object that is focused\n",
    "kernel2 = np.array([[1, -3, -1],\n",
    "                       [3, 0, 3],\n",
    "                       [1, -3, -1]]) \n",
    "    \n",
    "img_my_kernel = cv2.filter2D(gray_scale, -1, kernel2)\n",
    "cv2.imwrite('Lanna_gray_scale_kernel2.png', img_my_kernel)"
   ]
  },
  {
   "cell_type": "code",
   "execution_count": 4,
   "id": "alert-combat",
   "metadata": {},
   "outputs": [
    {
     "data": {
      "text/plain": [
       "True"
      ]
     },
     "execution_count": 4,
     "metadata": {},
     "output_type": "execute_result"
    }
   ],
   "source": [
    "edge_detector = np.array([[-1, -1, -1],\n",
    "                       [-1, 8, -1],\n",
    "                       [-1, -1, -1]])\n",
    "    \n",
    "edge_detector_known = cv2.filter2D(gray_scale, -1, edge_detector)\n",
    "cv2.imwrite('Lanna_gray_scale_known_edge_detection.png', edge_detector_known)"
   ]
  },
  {
   "cell_type": "code",
   "execution_count": 5,
   "id": "ideal-produce",
   "metadata": {},
   "outputs": [
    {
     "data": {
      "text/plain": [
       "True"
      ]
     },
     "execution_count": 5,
     "metadata": {},
     "output_type": "execute_result"
    }
   ],
   "source": [
    "img_my_kernel = cv2.filter2D(gray_scale, -1, kernel1)\n",
    "cv2.imwrite('Lanna_gray_scale_kernel1.png', img_my_kernel)"
   ]
  }
 ],
 "metadata": {
  "kernelspec": {
   "display_name": "Python 3",
   "language": "python",
   "name": "python3"
  },
  "language_info": {
   "codemirror_mode": {
    "name": "ipython",
    "version": 3
   },
   "file_extension": ".py",
   "mimetype": "text/x-python",
   "name": "python",
   "nbconvert_exporter": "python",
   "pygments_lexer": "ipython3",
   "version": "3.8.5"
  }
 },
 "nbformat": 4,
 "nbformat_minor": 5
}
